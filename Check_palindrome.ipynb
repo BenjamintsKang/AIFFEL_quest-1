{
  "nbformat": 4,
  "nbformat_minor": 0,
  "metadata": {
    "colab": {
      "provenance": [],
      "include_colab_link": true
    },
    "kernelspec": {
      "name": "python3",
      "display_name": "Python 3"
    },
    "language_info": {
      "name": "python"
    }
  },
  "cells": [
    {
      "cell_type": "markdown",
      "metadata": {
        "id": "view-in-github",
        "colab_type": "text"
      },
      "source": [
        "<a href=\"https://colab.research.google.com/github/udoli3/AIFFEL_quest/blob/externalcommit/Check_palindrome.ipynb\" target=\"_parent\"><img src=\"https://colab.research.google.com/assets/colab-badge.svg\" alt=\"Open In Colab\"/></a>"
      ]
    },
    {
      "cell_type": "markdown",
      "source": [
        "# 회문 판별하기"
      ],
      "metadata": {
        "id": "WV0i067EXAYk"
      }
    },
    {
      "cell_type": "code",
      "source": [
        "# 회문 판별 함수\n",
        "def check_palindrome(word):\n",
        "  word_length = len(word) # 낱말 길이\n",
        "  end = word_length - 1 # 낱말 끝 인덱스\n",
        "  for i in range(word_length // 2): # 낱말 가운데를 기준으로 대칭성 확인 (2로 나눠 떨어지는 숫자만큼 아래를 실행한다)\n",
        "    if word[i] == word[end - i]: # 이 낱말과 이에 대응하는 낱말이 같다면:\n",
        "      pass # 패스\n",
        "    else: # 다르면\n",
        "      return False # False\n",
        "\n",
        "  return True # 낱말이 대칭이면 (정한 횟수만큼 확인 후 모두 pass 였으면,) True"
      ],
      "metadata": {
        "id": "W6AtyfCuNnIC"
      },
      "execution_count": null,
      "outputs": []
    },
    {
      "cell_type": "markdown",
      "source": [
        "토마토(0, 1, 2)\n",
        "word_length = 3\n",
        "end = 2\n",
        "\n",
        "range(3 // 2 == 1)\n",
        "토 마 토\n",
        "word[0] = word[1]\n",
        "\n",
        "와구 와구\n",
        "range( 4 // 2 == 2)\n",
        "range(2)\n",
        "0, 1\n",
        "0 3"
      ],
      "metadata": {
        "id": "Tdn5lfpNVwvx"
      }
    },
    {
      "cell_type": "code",
      "source": [
        "# 회문 확인 프로그램\n",
        "\n",
        "\n",
        "# 입력 받고\n",
        "word = input(\"낱말을 입력하세요: \")\n",
        "print(word + \"를(을) 입력하셨습니다.\")\n",
        "\n",
        "# print(check_palindrome(word))\n",
        "\n",
        "if check_palindrome(word) == True:\n",
        "  print(\"입력하신 낱말은 회문입니다.\")\n",
        "else:\n",
        "  print(\"입력하신 낱말은 회문이 아닙니다.\")"
      ],
      "metadata": {
        "id": "IWUTImmMJgc_",
        "colab": {
          "base_uri": "https://localhost:8080/"
        },
        "outputId": "223ee6d4-8346-43cc-9da1-da617521c57d"
      },
      "execution_count": null,
      "outputs": [
        {
          "output_type": "stream",
          "name": "stdout",
          "text": [
            "낱말을 입력하세요: 우영우\n",
            "우영우를(을) 입력하셨습니다.\n",
            "입력하신 낱말은 회문입니다.\n"
          ]
        }
      ]
    },
    {
      "cell_type": "markdown",
      "source": [
        "### **회고**\n",
        "\n",
        "**for**, **in**, **range** 명령들을 잘 이해하고 있을 때 해결 가능한 문제였습니다.\n",
        "\n",
        "range[n]이 (0부터) n개의 숫자를 특정하면\n",
        "\n",
        "* e.g. range[2] --> 0, 1\n",
        "\n",
        "i in range 는 특정된 숫자를 i 로 지정합니다.\n",
        "\n",
        "* e.g. i in range[2] --> i = 0, i = 1 식으로. 얼마나?\n",
        "\n",
        "for i in range[n]\n",
        "\n",
        "* n만큼의 횟수동안 # range[n]\n",
        "\n",
        "**i에는 0부터 시작해서 n개의 숫자를 대입하면서, # i in range[n]**\n",
        "\n",
        "**매 회마다 지정된 i에 대해서 # for i in range[n]**\n",
        "\n",
        "**for 문 안의 내용을 실행한다. # for 문 내용**\n",
        "\n"
      ],
      "metadata": {
        "id": "0VXVlCrzmjOI"
      }
    }
  ]
}