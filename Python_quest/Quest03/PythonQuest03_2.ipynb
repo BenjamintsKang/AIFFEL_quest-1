{
  "nbformat": 4,
  "nbformat_minor": 0,
  "metadata": {
    "colab": {
      "provenance": [],
      "private_outputs": true,
      "collapsed_sections": [
        "Dh2vcnApr4VI"
      ],
      "include_colab_link": true
    },
    "kernelspec": {
      "name": "python3",
      "display_name": "Python 3"
    },
    "language_info": {
      "name": "python"
    }
  },
  "cells": [
    {
      "cell_type": "markdown",
      "metadata": {
        "id": "view-in-github",
        "colab_type": "text"
      },
      "source": [
        "<a href=\"https://colab.research.google.com/github/udoli3/AIFFEL_quest/blob/main/Python_quest/Quest03/PythonQuest03_2.ipynb\" target=\"_parent\"><img src=\"https://colab.research.google.com/assets/colab-badge.svg\" alt=\"Open In Colab\"/></a>"
      ]
    },
    {
      "cell_type": "markdown",
      "source": [
        "_회고가 각 문제 설명 아래 작성되어 있습니다._"
      ],
      "metadata": {
        "id": "lot8lcjDYjOR"
      }
    },
    {
      "cell_type": "markdown",
      "source": [
        "# [파이썬] 퀘스트: 클로저를 활용한 문제해결하기\n",
        "\n",
        "난이도: ★★★★☆  \n",
        "장르: nonlocal, 클로저, 데코레이터 활용  \n",
        "\n",
        "---\n",
        "\n",
        "\n"
      ],
      "metadata": {
        "id": "sPRcyZsPorCm"
      }
    },
    {
      "cell_type": "markdown",
      "source": [
        "## 문제 1. 최댓값과 최솟값 찾기\n",
        "\n"
      ],
      "metadata": {
        "id": "Dh2vcnApr4VI"
      }
    },
    {
      "cell_type": "markdown",
      "source": [
        "조건:  \n",
        "* 주어진 리스트의 최댓값과 최솟값을 반환하는 클로저 함수를 완성해 주세요.\n",
        "    * 주어진 숫자 리스트 numbers에 대해 find_min_max 함수를 호출하면 find_min과 find_max 함수를 얻을 수 있습니다.\n",
        "    * find_min() 함수를 호출하면 최솟값을, find_max()함수를 호출하면 최댓값을 반환합니다.\n",
        "    * 클로저를 사용하여 min_value와 max_value 변수를 외부에 노출하지 않고도 최솟값과 최대값을 찾을 수 있습니다.\n",
        "    * find_min_max 함수가 호출된 이후에도 find_min과 find_max 함수를 통해 min_value와 max_value 변수에 접근할 수 있습니다.\n",
        "* 주석으로 구현 내용이 써있는 부분을 코드로 채워주세요.\n",
        "---\n",
        "입력:\n",
        "```python\n",
        "numbers = [10, 5, 8, 12, 3, 7]\n",
        "find_min, find_max = find_min_max(numbers)\n",
        "\n",
        "print(\"최솟값:\", find_min())  \n",
        "print(\"최댓값:\", find_max())  \n",
        "```\n",
        "---\n",
        "출력:\n",
        "```\n",
        "3\n",
        "12\n",
        "```"
      ],
      "metadata": {
        "id": "d-vXJztpvFD-"
      }
    },
    {
      "cell_type": "code",
      "source": [
        "def find_min_max(numbers):\n",
        "    # min_value와 max_value 변수를 초기화\n",
        "    # min_value는 양의 무한대(float('inf'))로 초기화하여 어떤 숫자보다도 큰 값으로 설정\n",
        "    min_value = float('inf')\n",
        "    # max_value는 음의 무한대(float('-inf'))로 초기화하여 어떤 숫자보다도 작은 값으로 설정\n",
        "    max_value = float('-inf')\n",
        "\n",
        "    def update_min_max(num):\n",
        "        # 외부함수의 변수인 min_value, max_value 참조\n",
        "        nonlocal min_value\n",
        "        nonlocal max_value\n",
        "\n",
        "        # 만약 num 값이 min_value보다 작다면 min_value를 num 값으로 변경\n",
        "        if num < min_value:\n",
        "          min_value = num\n",
        "          # return min_value\n",
        "\n",
        "        # 만약 num 값이 max_value보다 크다면 max_value를 num 값으로 변경\n",
        "        elif num > max_value:\n",
        "          max_value = num\n",
        "          # return max_value\n",
        "\n",
        "    # numbers 리스트의 모든 값을 순환하며 최댓값과 최솟값 업데이트\n",
        "    for num in numbers:                   # 주 실행 내용 # for 문이 참조하는 리스트로서 numbers 최초 활용\n",
        "        update_min_max(num)\n",
        "\n",
        "    # 최솟값을 반환하는 내부함수\n",
        "    def get_min():\n",
        "      return min_value\n",
        "\n",
        "    # 최댓값을 반환하는 내부함수\n",
        "    def get_max():\n",
        "      return max_value\n",
        "\n",
        "    # 외부함수는 내부함수(get_min()과 get_max())를 반환\n",
        "    return get_min, get_max\n"
      ],
      "metadata": {
        "id": "oF_uYyS2jjPj"
      },
      "execution_count": null,
      "outputs": []
    },
    {
      "cell_type": "code",
      "source": [
        "numbers = [10, 5, 8, 12, 3, 7]\n",
        "find_min, find_max = find_min_max(numbers)    # find_min, find_max <-- 아예 감싸지 않고 선언된 이터러블 자료형으로, 튜플입니다.\n",
        "# find_max = find_min_max(numbers)\n",
        "\n",
        "print(\"최솟값:\", find_min())  # 3\n",
        "print(\"최댓값:\", find_max())  # 12"
      ],
      "metadata": {
        "id": "fCd_fJBrobxi"
      },
      "execution_count": null,
      "outputs": []
    },
    {
      "cell_type": "markdown",
      "source": [
        "##**회고**\n",
        "\n",
        "__실행내용:__\n",
        "\n",
        "\n",
        "     <이 부분은 동규님이 정리하신 내용입니다>\n",
        "\n",
        "     수행과제: iterable(list, iterator, or generator) 에서 최댓값과 최솟값을 찾는다.\n",
        "\n",
        "     Parameters:\n",
        "         numbers (iterable): 검토(비교 등) 대상을 포함한 iterable.\n",
        "\n",
        "     Returns:\n",
        "         tuple: 두 함수를 요소로 갖는 tuple\n",
        "             get_min(): iterable에서 최솟값을 찾아 반환\n",
        "             get_max(): iterable에서 최댓값을 찾아 반환\n",
        "\n",
        "\n",
        "__문제해결:__\n",
        "\n",
        "- \" 'int' object is not callable \" 에러로 인해 다음을 배웠고, 수정했습니다.\n",
        "  - return get_min(), get_max() 는 값을 반환\n",
        "  - return get_min, get_max 는 함수를 반환\n",
        "\n",
        "__그 외 배운 것:__\n",
        "- find_min_max 안의 update_min_max(num)등의 함수를 밖에서 참조할 수 없고, 오직 반환된 부분만 참조할 수 있기에 \"안의 기능을 숨긴다\"는 클로저의 기능을 이해했습니다.\n",
        "\n",
        "- float('inf') 로 무한대 값을 설정할 수 있다.\n",
        "\n",
        "__잊었던 부분:__\n",
        "- find_min, find_max <-- 아예 감싸지 않고 선언된 이터러블 자료형으로, 튜플입니다.\n",
        "\n",
        "\n",
        "__느낀 점:__\n",
        "\n",
        "- 프로그램 처리 순서를 따라가는 것의 일환으로, 매개변수와 반환하려는 것의 자료형을 구체적으로 인식하고 넘어가야겠습니다.\n",
        "\n",
        "추가기록:\n",
        "\n",
        "     정상 처리 조건:\n",
        "     find_min_max()로 리턴된 get_min, get_max 함수가\n",
        "     매개변수 numbers 리스트를 각각 매개변수로 받아 실행한 값이\n",
        "     상응하는 갯수의 값을 저장해 반환한다면\n",
        "     정상처리 된다.\n",
        "     \n",
        "     만약\n",
        "     return get_min, get_max\n",
        "     find_max = find_min_max(numbers)\n",
        "     등이면 not callable 에러 발생.\n",
        "\n",
        "다시 볼 개념: 내장함수와 그 반환값의 가용 영역"
      ],
      "metadata": {
        "id": "JNoKvN4FaDXK"
      }
    },
    {
      "cell_type": "markdown",
      "source": [
        "## 문제 2. 함수의 호출 횟수를 세는 데코레이터"
      ],
      "metadata": {
        "id": "d3XECsmXwES5"
      }
    },
    {
      "cell_type": "markdown",
      "source": [
        "지난 시간에 배운 데코레이터를 기억하시나요? 데코레이터도 내부함수를 반환하는 클로저를 활용한 문법입니다. 클로저를 활용하여 함수 호출 횟수를 출력하는 데코레이터를 만들어봅시다.\n",
        "\n",
        "조건:\n",
        "* 함수가 실행될 때 마다 함수 이름과 실행 횟수를 출력하는 데코레이터 `counter` 만들기  \n",
        "\n",
        "힌트:\n",
        "* 데코레이터의 내부 함수(클로저)는 실행횟수를 기억하기 위해 외부 함수의 변수를 참조 해야 합니다\n",
        "* 함수의 이름은 `함수이름.__name__`으로 접근할 수 있습니다.\n",
        "\n",
        "---\n",
        "입력:\n",
        "```python\n",
        "@counter\n",
        "def say_hello():\n",
        "    print(\"Hello Aiffel!\")\n",
        "\n",
        "for i in range(5):\n",
        "    say_hello()\n",
        "\n",
        "```\n",
        "\n",
        "say_hello()  = counter(say_hello)\n",
        "\n",
        " = wrapper\n",
        "---\n",
        "출력:\n",
        "```\n",
        "Hello Aiffel!\n",
        "say_hello 실행횟수: 1\n",
        "Hello Aiffel!\n",
        "say_hello 실행횟수: 2\n",
        "Hello Aiffel!\n",
        "say_hello 실행횟수: 3\n",
        "Hello Aiffel!\n",
        "say_hello 실행횟수: 4\n",
        "Hello Aiffel!\n",
        "say_hello 실행횟수: 5\n",
        "```"
      ],
      "metadata": {
        "id": "HTdH6DkVvJMF"
      }
    },
    {
      "cell_type": "markdown",
      "source": [
        "\n",
        "\n",
        "\n",
        "d\n",
        "\n",
        "  \"\"\"\n",
        "     입력 받은 함수를 실행하고 출력 횟수를 표시하는 decorator\n",
        "\n",
        "     Parameters:\n",
        "         함수(매개 변수 없음)\n",
        "\n",
        "     Returns:\n",
        "         함수(Wrapper)\n",
        "  \"\"\""
      ],
      "metadata": {
        "id": "2RtfPxQ6Z4W_"
      }
    },
    {
      "cell_type": "code",
      "source": [
        "def counter(func):\n",
        "\n",
        "  count = 0           # Decorated 함수 출력 횟수 초기화\n",
        "\n",
        "  def wrapper():\n",
        "    nonlocal count    # wrapper에서 count에 접근 허용\n",
        "\n",
        "    func()\n",
        "    count += 1        # func() 호출 시 count 값 1 증가\n",
        "    print(f'{func.__name__} 실행 횟수: {count}') # {함수 이름} 실행 횟수: count 번 형식으로 출력\n",
        "\n",
        "  return wrapper      # wrapper 객체를 호출부로 반환"
      ],
      "metadata": {
        "id": "QgK5kYbHWc21"
      },
      "execution_count": null,
      "outputs": []
    },
    {
      "cell_type": "code",
      "source": [
        "@counter\n",
        "def say_hello():\n",
        "    print(\"Hello Aiffel!\")\n",
        "\n",
        "for i in range(5):\n",
        "    say_hello()"
      ],
      "metadata": {
        "id": "x6fP4S27DG01"
      },
      "execution_count": null,
      "outputs": []
    },
    {
      "cell_type": "markdown",
      "source": [
        "##**회고**\n",
        "\n",
        "\n",
        "__문제이해:__\n",
        "\n",
        "     say_hello()를 출력했을 때\n",
        "     \n",
        "     Hello Aiffel!            # say_hello() 함수로 실행된 내용\n",
        "     say_hello 실행 횟수: 1     # say_hello()가 실행될 때 함께 실행될 내용, 즉 데코레이터의 실행 내용\n",
        "\n",
        "     say_hello()와 say_hello의 데코레이터의 실행 내용을 모두 출력하고 싶다.\n",
        "\n",
        "     이 데코레이터의 기능:\n",
        "     1. 실행 횟수 카운트\n",
        "     2. 출력\n",
        "\n",
        "__실행내용:__\n",
        "\n",
        "\n",
        "     입력 받은 함수를 실행하고 출력 횟수를 표시하는 decorator\n",
        "\n",
        "     Parameters:\n",
        "         함수(매개 변수 없음)\n",
        "\n",
        "     Returns:\n",
        "         함수(Wrapper)\n",
        "\n",
        "\n",
        "__문제해결 및 배운 점:__\n",
        "\n",
        "- 카운ㅌ\n",
        "\n",
        "__잊었던 부분:__\n",
        "- find_min, find_max <-- 아예 감싸지 않고 선언된 이터러블 자료형으로, 튜플입니다.\n",
        "\n",
        "\n",
        "__느낀 점:__\n",
        "\n",
        "- 프로그램 처리 순서를 따라가는 것의 일환으로, 매개변수와 반환하려는 것의 자료형을 구체적으로 인식하고 넘어가야겠습니다.\n",
        "\n",
        "추가기록:\n",
        "\n",
        "     정상 처리 조건:\n",
        "     find_min_max()로 리턴된 get_min, get_max 함수가\n",
        "     매개변수 numbers 리스트를 각각 매개변수로 받아 실행한 값이\n",
        "     상응하는 갯수의 값을 저장해 반환한다면\n",
        "     정상처리 된다.\n",
        "     \n",
        "     만약\n",
        "     return get_min, get_max\n",
        "     find_max = find_min_max(numbers)\n",
        "     등이면 not callable 에러 발생.\n",
        "\n",
        "다시 볼 개념: 내장함수와 그 반환값의 가용 영역"
      ],
      "metadata": {
        "id": "2ETxSiFhy9PC"
      }
    }
  ]
}