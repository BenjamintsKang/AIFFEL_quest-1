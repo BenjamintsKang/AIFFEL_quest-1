{
  "nbformat": 4,
  "nbformat_minor": 0,
  "metadata": {
    "colab": {
      "provenance": [],
      "include_colab_link": true
    },
    "kernelspec": {
      "name": "python3",
      "display_name": "Python 3"
    },
    "language_info": {
      "name": "python"
    }
  },
  "cells": [
    {
      "cell_type": "markdown",
      "metadata": {
        "id": "view-in-github",
        "colab_type": "text"
      },
      "source": [
        "<a href=\"https://colab.research.google.com/github/udoli3/AIFFEL_quest/blob/main/Python_quest/Quest01/compare_reverse_forNslice.ipynb\" target=\"_parent\"><img src=\"https://colab.research.google.com/assets/colab-badge.svg\" alt=\"Open In Colab\"/></a>"
      ]
    },
    {
      "cell_type": "code",
      "execution_count": null,
      "metadata": {
        "colab": {
          "base_uri": "https://localhost:8080/"
        },
        "id": "anLCIvBUHNYK",
        "outputId": "a946c967-cef9-4493-94b3-2261070362d5"
      },
      "outputs": [
        {
          "output_type": "stream",
          "name": "stdout",
          "text": [
            "직접 for 반복문: 3.29초\n",
            "슬라이싱: 0.00초\n"
          ]
        }
      ],
      "source": [
        "\n",
        "import time\n",
        "\n",
        "def reverse_string_for(text):\n",
        "    reversed_text = \"\"\n",
        "    for char in text:\n",
        "        reversed_text = char + reversed_text\n",
        "    return reversed_text\n",
        "\n",
        "def reverse_string_slice(text):\n",
        "    return text[::-1]\n",
        "\n",
        "text = \"This is a very long string to be reversed.\" * 10000\n",
        "\n",
        "start_time = time.time()\n",
        "reversed_text = reverse_string_for(text)\n",
        "end_time = time.time()\n",
        "print(f\"직접 for 반복문: {end_time - start_time:.2f}초\")\n",
        "\n",
        "start_time = time.time()\n",
        "reversed_text = reverse_string_slice(text)\n",
        "end_time = time.time()\n",
        "print(f\"슬라이싱: {end_time - start_time:.2f}초\")\n"
      ]
    }
  ]
}