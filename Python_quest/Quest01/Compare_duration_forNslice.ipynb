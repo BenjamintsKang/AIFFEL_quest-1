{
  "nbformat": 4,
  "nbformat_minor": 0,
  "metadata": {
    "colab": {
      "provenance": [],
      "authorship_tag": "ABX9TyMFtIqlNAEgn91Znx0qBCfA",
      "include_colab_link": true
    },
    "kernelspec": {
      "name": "python3",
      "display_name": "Python 3"
    },
    "language_info": {
      "name": "python"
    }
  },
  "cells": [
    {
      "cell_type": "markdown",
      "metadata": {
        "id": "view-in-github",
        "colab_type": "text"
      },
      "source": [
        "<a href=\"https://colab.research.google.com/github/udoli3/AIFFEL_quest/blob/main/Python_quest/Quest01/Compare_duration_forNslice.ipynb\" target=\"_parent\"><img src=\"https://colab.research.google.com/assets/colab-badge.svg\" alt=\"Open In Colab\"/></a>"
      ]
    },
    {
      "cell_type": "code",
      "execution_count": null,
      "metadata": {
        "id": "b--9B736IdBe"
      },
      "outputs": [],
      "source": [
        "# def reverse_string_for(text):\n",
        "    # reversed_text = \"\"\n",
        "    # for char in text:\n",
        "        # reversed_text = char + reversed_text\n",
        "    # return reversed_text\n",
        "\n",
        "# for문으로 비교\n",
        "def compare_front_end(word):\n",
        "  word_length = len(word)\n",
        "  end = word_length - 1\n",
        "  for i in range(word_length // 2):\n",
        "    if word[i] == word[end - i]:\n",
        "      pass\n",
        "    else:\n",
        "      return False\n",
        "\n",
        "  return True\n",
        "\n",
        "def check_palindrome_for(word):\n",
        "  if compare_front_end(word) == True:\n",
        "    print(\"입력하신 낱말은 회문입니다.\")\n",
        "  else:\n",
        "    print(\"입력하신 낱말은 회문이 아닙니다.\")\n",
        "\n",
        "# 슬라이싱으로 비교\n",
        "def reverse_string_slice(word):\n",
        "    return word[::-1]\n",
        "\n",
        "def check_palindrome_slice(word):\n",
        "  if word == reverse_string_slice(word):\n",
        "    print(\"입력하신 낱말은 회문입니다.\")\n",
        "  else:\n",
        "    print(\"입력하신 낱말은 회문이 아닙니다.\")"
      ]
    },
    {
      "cell_type": "code",
      "source": [
        "import time\n",
        "\n",
        "word = \"This is a very long string to be reversed.\" * 9999999\n",
        "\n",
        "\n",
        "# 실행 소요 시간 확인\n",
        "start_time = time.time()\n",
        "check_palindrome_for(word)\n",
        "end_time = time.time()\n",
        "print(f\"직접 for 반복문: {end_time - start_time:.2f}초\")\n",
        "\n",
        "start_time = time.time()\n",
        "check_palindrome_slice(word)\n",
        "end_time = time.time()\n",
        "print(f\"슬라이싱: {end_time - start_time:.2f}초\")"
      ],
      "metadata": {
        "colab": {
          "base_uri": "https://localhost:8080/"
        },
        "id": "jOqSiaROMQbv",
        "outputId": "098d0bae-c330-4e4b-929a-579c35b8bf2c"
      },
      "execution_count": null,
      "outputs": [
        {
          "output_type": "stream",
          "name": "stdout",
          "text": [
            "입력하신 낱말은 회문이 아닙니다.\n",
            "직접 for 반복문: 0.00초\n",
            "입력하신 낱말은 회문이 아닙니다.\n",
            "슬라이싱: 1.91초\n"
          ]
        }
      ]
    }
  ]
}