{
  "nbformat": 4,
  "nbformat_minor": 0,
  "metadata": {
    "colab": {
      "provenance": [],
      "authorship_tag": "ABX9TyN8wWDVbOl0OWL3S1gIxB1v",
      "include_colab_link": true
    },
    "kernelspec": {
      "name": "python3",
      "display_name": "Python 3"
    },
    "language_info": {
      "name": "python"
    }
  },
  "cells": [
    {
      "cell_type": "markdown",
      "metadata": {
        "id": "view-in-github",
        "colab_type": "text"
      },
      "source": [
        "<a href=\"https://colab.research.google.com/github/udoli3/AIFFEL_quest/blob/main/Python_quest/Quest05/Project_Node10.ipynb\" target=\"_parent\"><img src=\"https://colab.research.google.com/assets/colab-badge.svg\" alt=\"Open In Colab\"/></a>"
      ]
    },
    {
      "cell_type": "markdown",
      "source": [
        "## 아이스만 가능한 음료도 추가"
      ],
      "metadata": {
        "id": "yBZ1OrosvmMa"
      }
    },
    {
      "cell_type": "markdown",
      "source": [
        "## 모든 입력 예외 처리"
      ],
      "metadata": {
        "id": "hygDP_HOvgwO"
      }
    },
    {
      "cell_type": "markdown",
      "source": [
        "## 메뉴 가격 리스트 다차원 리스트로 변경하기"
      ],
      "metadata": {
        "id": "psVeFDb9vM0v"
      }
    },
    {
      "cell_type": "code",
      "source": [
        "class Kiosk:\n",
        "    def __init__(self):\n",
        "        self.menu = [['아메리카노', 1500], ['라떼', 2000], ['플랫화이트', 2800], ['녹차라떼', 2500], ['초코라떼', 2500], ['블루베리스무디', 3000], ['녹차스무디', 3000]]"
      ],
      "metadata": {
        "id": "SqFjyOfVwYt8"
      },
      "execution_count": 10,
      "outputs": []
    },
    {
      "cell_type": "markdown",
      "source": [
        "## 메뉴출력 enumerate() 함수 사용해보기\n"
      ],
      "metadata": {
        "id": "RCbXf-wPvQpQ"
      }
    },
    {
      "cell_type": "code",
      "source": [
        "class Kiosk:\n",
        "    def __init__(self):\n",
        "        self.menu = [['아메리카노', 1500], ['라떼', 2000], ['플랫화이트', 2800], ['녹차라떼', 2500], ['초코라떼', 2500], ['블루베리스무디', 3000], ['녹차스무디', 3000]]\n",
        "\n",
        "    def menu_print(self):\n",
        "      show_menu = enumerate(self.menu, start=1)\n",
        "      for [index, menu] in show_menu:\n",
        "        print(index, ' ', menu[0], ' : ', menu[1])\n",
        "\n",
        "a = Kiosk()\n",
        "a.menu_print()"
      ],
      "metadata": {
        "colab": {
          "base_uri": "https://localhost:8080/"
        },
        "id": "E6eAXdn01l1X",
        "outputId": "6e0cbc32-e5cf-4798-8781-f11bf06a9a7c"
      },
      "execution_count": 59,
      "outputs": [
        {
          "output_type": "stream",
          "name": "stdout",
          "text": [
            "1   아메리카노  :  1500\n",
            "2   라떼  :  2000\n",
            "3   플랫화이트  :  2800\n",
            "4   녹차라떼  :  2500\n",
            "5   초코라떼  :  2500\n",
            "6   블루베리스무디  :  3000\n",
            "7   녹차스무디  :  3000\n"
          ]
        }
      ]
    },
    {
      "cell_type": "markdown",
      "source": [
        "## datetime 모듈로 주문표에 주문 일시 추가해보기\n"
      ],
      "metadata": {
        "id": "ATjiw9pBvXO3"
      }
    },
    {
      "cell_type": "code",
      "source": [
        "import datetime\n",
        "\n",
        "order_time = datetime.datetime.now()\n",
        "\n",
        "print(f'주문 일시: {order_time}')"
      ],
      "metadata": {
        "colab": {
          "base_uri": "https://localhost:8080/"
        },
        "id": "FaNK_kTJ4c-_",
        "outputId": "d6305a0c-e5f0-42b4-aae5-e5606b73a82d"
      },
      "execution_count": 28,
      "outputs": [
        {
          "output_type": "stream",
          "name": "stdout",
          "text": [
            "주문 일시: 2024-05-27 07:12:34.808920\n"
          ]
        }
      ]
    },
    {
      "cell_type": "markdown",
      "source": [
        "## 주문표 출력 양식은 데코레이터로 만들어보기"
      ],
      "metadata": {
        "id": "jxXuRELYvd23"
      }
    },
    {
      "cell_type": "code",
      "source": [
        "def decorated_receipt(fn):\n",
        "    deco():\n",
        "        print('⟝' + '-' * 30 + '⟞')\n",
        "        for i in range(5):\n",
        "            print('|' + ' ' * 31 + '|')\n",
        "\n",
        "        fn()\n",
        "\n",
        "        for i in range(5):\n",
        "            print('|' + ' ' * 31+ '|')\n",
        "        print('⟝' + '-' * 30 + '⟞')\n",
        "    return deco\n"
      ],
      "metadata": {
        "id": "KlOnhHqCB2nC"
      },
      "execution_count": null,
      "outputs": []
    },
    {
      "cell_type": "code",
      "source": [
        "import datetime\n",
        "\n",
        "class Kiosk:\n",
        "    def __init__(self):\n",
        "        self.menu = [['아메리카노', 1500], ['라떼', 2000], ['플랫화이트', 2800], ['녹차라떼', 2500], ['초코라떼', 2500], ['블루베리스무디', 3000], ['녹차스무디', 3000]]\n",
        "\n",
        "    def menu_print(self):\n",
        "      show_menu = enumerate(self.menu, start=1)\n",
        "      for [index, menu] in show_menu:\n",
        "        print(index, ' ', menu[0], ' : ', menu[1])\n",
        "      print()\n",
        "\n",
        "    #음료 주문\n",
        "    def menu_select(self):\n",
        "        self.order_menu = []        # 고객 주문 저장\n",
        "        self.order_price = []       # 고객 주문 가격 저장\n",
        "\n",
        "        n = 0\n",
        "        while n < 1 or len(self.menu) < n:\n",
        "            n = int(input(\"음료를 선택해주세요. (번호를 입력하세요) : \"))  # 음료 번호 입력\n",
        "\n",
        "            # 메뉴판에 있는 음료 번호일 때\n",
        "            if 1 <= n & n <= len(self.menu):\n",
        "                self.order_price.append(self.menu[n-1][1])  # 가격 리스트에 추가합니다.\n",
        "                self.price_sum = self.menu[n-1][1]  # 합계 금액\n",
        "\n",
        "            # 메뉴판에 없는 번호일 때\n",
        "            else:\n",
        "                print(\"없는 메뉴입니다. 다시 주문해 주세요.\")\n",
        "\n",
        "\n",
        "        # 음료 온도 물어보기\n",
        "        if n == 6 or n == 7:\n",
        "            print('선택하신 메뉴는 ICE 로만 가능합니다. ')\n",
        "            self.temp = 'ICE'\n",
        "        else:\n",
        "            t = 0  # 기본값을 넣어주고\n",
        "            while t != 1 and t != 2:  # 1이나 2를 입력할 때까지 물어보기\n",
        "                t= int(input(\"HOT 음료는 1을, ICE 음료는 2를 입력하세요 : \"))\n",
        "                # 문제 2-3의 답을 입력하세요.\n",
        "                if t == 1:\n",
        "                    self.temp = 'HOT'\n",
        "                elif t == 2:\n",
        "                    self.temp = 'ICE'\n",
        "                else:\n",
        "                    print(\"1과 2 중 하나를 입력하세요.\\n\")\n",
        "\n",
        "        self.order_menu.append(f\"{self.temp} {self.menu[n-1][0]} : {self.menu[n-1][1]}\")  # 주문 리스트에 추가합니다.\n",
        "\n",
        "        # ['HOT/ICE 메뉴이름', ...] 의 형태\n",
        "\n",
        "        print('\\n지금까지 주문하신 내용은: ')\n",
        "        print(*self.order_menu, '원\\n')\n",
        "        print('입니다.\\n')  # 온도 속성을 추가한 주문 결과를 출력합니다.\n",
        "\n",
        "        # 추가 주문 또는 지불\n",
        "        while n != 0:  # 지불을 선택하기 전까지 반복합니다.\n",
        "            print()\n",
        "            n = int(input(\"추가 주문은 음료 번호를, 지불은 0을 누르세요 : \"))  # 추가 주문 또는 지불\n",
        "            if n > 0 and n < len(self.menu) + 1:    # 재주문시\n",
        "\n",
        "                self.order_price.append(self.menu[n-1][1])  # 가격 리스트에 추가\n",
        "                self.price_sum += self.menu[n-1][1]  # 합계 금액\n",
        "\n",
        "                # 음료 온도 물어보기\n",
        "                if n == 6 or n == 7:\n",
        "                    print('선택하신 메뉴는 ICE 로만 가능합니다. ')\n",
        "                    self.temp = 'ICE'\n",
        "                else:\n",
        "                    t = 0  # 기본값을 넣어주고\n",
        "                    while t != 1 and t != 2:  # 1이나 2를 입력할 때까지 물어보기\n",
        "                        t= int(input(\"HOT 음료는 1을, ICE 음료는 2를 입력하세요 : \"))\n",
        "                        # 문제 2-3의 답을 입력하세요.\n",
        "                        if t == 1:\n",
        "                            self.temp = 'HOT'\n",
        "                        elif t == 2:\n",
        "                            self.temp = 'ICE'\n",
        "                        else:\n",
        "                            print(\"1과 2 중 하나를 입력하세요.\\n\")\n",
        "\n",
        "                self.order_menu.append(f\"{self.temp} {self.menu[n-1][0]} : {self.menu[n-1][1]}\")  # 주문 리스트에 추가합니다.\n",
        "                print('\\n지금까지 주문하신 내용은: ')\n",
        "                i = 0\n",
        "                for i in range(len(self.order_menu)):\n",
        "                  print(*self.order_menu, '원')\n",
        "                  cnt = i\n",
        "                print('총', cnt+1, '잔 입니다.\\n')  # 온도 속성을 추가한 주문 결과를 출력합니다.            else :                                  # 주문에 해당하는 번호가 아닐 때\n",
        "\n",
        "                if n == 0 :  # 지불을 입력하면\n",
        "                    print(\"주문이 완료되었습니다.\")\n",
        "                else :  # 없는 번호를 입력할 때\n",
        "                    print(\"없는 메뉴입니다. 다시 주문해 주세요.\")\n",
        "\n",
        "\n",
        "    def pay(self):\n",
        "        pay_avail = ['cash', '1', 'card', '2']\n",
        "        pay_with = ''\n",
        "\n",
        "        while pay_with not in pay_avail:\n",
        "            pay_with = input('지불 방식을 선택해주세요.\\n 현금 : cash 또는 1을 입력해주세요.\\n 카드: card 또는 2를 입력해주세요.\\n')\n",
        "            if pay_with in pay_avail[:2]:\n",
        "                print('직원을 호출하겠습니다.')\n",
        "            elif pay_with in pay_avail[2:]:\n",
        "                print('IC칩 방향에 맞게 카드를 꽂아주세요.')\n",
        "            else:\n",
        "                print('입력이 잘못되었습니다.')\n",
        "\n",
        "    def decorated_receipt(fn):\n",
        "        def deco():\n",
        "            print('⟝' + '-' * 30 + '⟞')\n",
        "            for i in range(5):\n",
        "                print('|' + ' ' * 31 + '|')\n",
        "            fn()\n",
        "            for i in range(5):\n",
        "                print('|' + ' ' * 31+ '|')\n",
        "            print('⟝' + '-' * 30 + '⟞')\n",
        "        return deco\n",
        "\n",
        "    @decorated_receipt\n",
        "    def receipt(self):\n",
        "        # 주문 일시\n",
        "        # 주문 상품명 : 해당 금액\n",
        "        # 합계 금액\n",
        "        order_time = datetime.datetime.now()\n",
        "        print(f'주문 일시: {order_time}')\n",
        "\n",
        "        for i in range(len(self.order_menu)):\n",
        "            print(self.order_menu[i], ' : ', self.order_price[i])\n",
        "\n",
        "        print('합계 금액 :', self.price_sum)\n",
        "\n",
        "# 5가지 이상의 음료를 주문하고 리스트 확인하기\n",
        "a = Kiosk()  # 객체 생성\n",
        "a.menu_print()  # 메뉴 출력\n",
        "a.menu_select()  # 주문\n",
        "a.pay()  # 지불\n",
        "a.receipt()"
      ],
      "metadata": {
        "colab": {
          "base_uri": "https://localhost:8080/"
        },
        "id": "jrshqQCMwAi1",
        "outputId": "9e5dc05f-362a-4f39-c3c1-e5d4519b57fa"
      },
      "execution_count": null,
      "outputs": [
        {
          "name": "stdout",
          "output_type": "stream",
          "text": [
            "1   아메리카노  :  1500\n",
            "2   라떼  :  2000\n",
            "3   플랫화이트  :  2800\n",
            "4   녹차라떼  :  2500\n",
            "5   초코라떼  :  2500\n",
            "6   블루베리스무디  :  3000\n",
            "7   녹차스무디  :  3000\n",
            "\n",
            "선택하신 메뉴는 ICE 로만 가능합니다. \n",
            "\n",
            "지금까지 주문하신 내용은: \n",
            "ICE 녹차스무디 : 3000 원\n",
            "\n",
            "입니다.\n",
            "\n",
            "\n",
            "선택하신 메뉴는 ICE 로만 가능합니다. \n",
            "\n",
            "지금까지 주문하신 내용은: \n",
            "ICE 녹차스무디 : 3000 ICE 블루베리스무디 : 3000 원\n",
            "ICE 녹차스무디 : 3000 ICE 블루베리스무디 : 3000 원\n",
            "총 2 잔 입니다.\n",
            "\n",
            "없는 메뉴입니다. 다시 주문해 주세요.\n",
            "\n",
            "추가 주문은 음료 번호를, 지불은 0을 누르세요 : 0\n"
          ]
        }
      ]
    },
    {
      "cell_type": "code",
      "execution_count": null,
      "metadata": {
        "id": "LpnOE-EJvLo_"
      },
      "outputs": [],
      "source": []
    }
  ]
}