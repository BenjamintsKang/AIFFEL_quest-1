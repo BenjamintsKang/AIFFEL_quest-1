{
  "nbformat": 4,
  "nbformat_minor": 0,
  "metadata": {
    "colab": {
      "provenance": [],
      "collapsed_sections": [
        "KO_bANue3fSr",
        "fxzRnOmh0lbT",
        "XTc9Tt25Q2gq",
        "6ajZyuBTQceO",
        "OlRRENpRVnzd",
        "mYprALhm2VvH",
        "bE1qyLr-8Uvz",
        "7SRen9av2Dkl",
        "6xfyIyirWGex",
        "m3YOxUwM2n1s",
        "T4HHpS_fgJtN",
        "5WIfZyuLgRsc",
        "FMm8cBM9gDMd",
        "IgxtAecf71JA",
        "U7lW5oQM8jY8",
        "mDDAmjF9h3xy",
        "6Yrgbrtch6dO",
        "rta1cPzjh6dO"
      ],
      "authorship_tag": "ABX9TyOmdphVBV8pXvlZtHX4c3+w",
      "include_colab_link": true
    },
    "kernelspec": {
      "name": "python3",
      "display_name": "Python 3"
    },
    "language_info": {
      "name": "python"
    }
  },
  "cells": [
    {
      "cell_type": "markdown",
      "metadata": {
        "id": "view-in-github",
        "colab_type": "text"
      },
      "source": [
        "<a href=\"https://colab.research.google.com/github/udoli3/AIFFEL_quest/blob/main/Python_quest/MainQuest/PythonMainProject01account.ipynb\" target=\"_parent\"><img src=\"https://colab.research.google.com/assets/colab-badge.svg\" alt=\"Open In Colab\"/></a>"
      ]
    },
    {
      "cell_type": "markdown",
      "source": [
        "# 은행계좌 만들기"
      ],
      "metadata": {
        "id": "k7CwEQsS0jLk"
      }
    },
    {
      "cell_type": "markdown",
      "source": [
        "## 과정 상세 및 단계별Q"
      ],
      "metadata": {
        "id": "KO_bANue3fSr"
      }
    },
    {
      "cell_type": "markdown",
      "source": [
        "### Account class : Q1 클래스 생성, 객체 생성\n",
        "\n"
      ],
      "metadata": {
        "id": "fxzRnOmh0lbT"
      }
    },
    {
      "cell_type": "markdown",
      "source": [
        "객체:\n",
        "* 은행 이름 (SC은행)\n",
        "* 예금주\n",
        "* 계좌번호 (랜덤 생성, 3-2-6자리)\n",
        "* 잔액\n",
        "\n",
        "\n"
      ],
      "metadata": {
        "id": "VoC8i6Sx05Xm"
      }
    },
    {
      "cell_type": "markdown",
      "source": [
        "> Q1. Account 클래스 : 은행에 가서 계좌를 개설하면 은행이름, 예금주, 계좌번호, 잔액이 설정됩니다. Account 클래스를 생성한 후\n",
        "생성자(hint: 매직매서드..!!)를 구현해보세요. 생성자에서는 예금주와 초기 잔액만 입력 받습니다. 은행이름은 SC은행으로 계좌번호는\n",
        "3자리-2자리-6자리 형태로 랜덤하게 생성됩니다. (은행이름: SC은행, 계좌번호: 111-11-111111)\n",
        "\n",
        "\n"
      ],
      "metadata": {
        "id": "N5p53tDM04eV"
      }
    },
    {
      "cell_type": "markdown",
      "source": [
        "```\n",
        "import random as r    # 계좌번호 랜덤 배정 위해\n",
        "\n",
        "class Account:\n",
        "  def __init__(self, name, balance):\n",
        "    self.bank_name = \"SC은행\"   # SC은행 지정 초기화\n",
        "    self.name = name\n",
        "    self.account_number = f\"{r.randint(100, 999)}-{r.randint(10, 99)}-{r.randint(100000, 999999)}\"  # 계좌번호 랜덤 배정\n",
        "    self.balance = balance\n",
        "```"
      ],
      "metadata": {
        "id": "hB-Ify4FTnR2"
      }
    },
    {
      "cell_type": "markdown",
      "source": [
        "##### test:\n",
        "\n",
        "생성자(매직매서드)에 부여한 매개변수와 생성 시의 매개변수가 상응해야 객체가 생성된다.\n",
        "\n",
        "❓ 매개변수가 부여되었을 때, (그 변수로 받을 값이 다시) 생성자 속에 선언되었는지 여부와는 관계가 없다. (객체 생성에 있어서는.)"
      ],
      "metadata": {
        "id": "07kl-IQGNr8J"
      }
    },
    {
      "cell_type": "markdown",
      "source": [
        "###### 현재 코드:"
      ],
      "metadata": {
        "id": "qAbQQzhhTc7V"
      }
    },
    {
      "cell_type": "code",
      "source": [
        "import random as r    # 계좌번호 랜덤 배정 위해\n",
        "\n",
        "class Account:\n",
        "  def __init__(self, name, balance):\n",
        "    self.bank_name = \"SC은행\"   # SC은행 지정 초기화\n",
        "    self.name = name\n",
        "    self.account_number = f\"{r.randint(100, 999)}-{r.randint(10, 99)}-{r.randint(100000, 999999)}\"  # 계좌번호 랜덤 배정\n",
        "    self.balance = balance"
      ],
      "metadata": {
        "id": "HGgHT_DeTaEg"
      },
      "execution_count": 38,
      "outputs": []
    },
    {
      "cell_type": "markdown",
      "source": [
        "###### 생성자 함수의 매개변수와 인스턴스 생성시 매개변수의 관계"
      ],
      "metadata": {
        "id": "XTc9Tt25Q2gq"
      }
    },
    {
      "cell_type": "markdown",
      "source": [
        "case 1/4: 매개변수 여부: O | 생성시 매개변수 입력 여부: O\n"
      ],
      "metadata": {
        "id": "4AmWCPecOSzd"
      }
    },
    {
      "cell_type": "code",
      "source": [
        "class Account:\n",
        "\n",
        "  def __init__(self, name, balance):\n",
        "    self.bank_name = \"SC은행\"\n",
        "    self.name = name\n",
        "    self.account_number = f\"{r.randint(100, 999)}-{r.randint(10, 99)}-{r.randint(100000, 999999)}\"\n",
        "    self.balance = balance\n",
        "\n",
        "test1 = Account(name='Kim', balance=20000)\n",
        "\n",
        "# test2 = Account()"
      ],
      "metadata": {
        "id": "IJxwYnkFN1Iz"
      },
      "execution_count": 31,
      "outputs": []
    },
    {
      "cell_type": "markdown",
      "source": [
        "case 2/4: 매개변수 여부: X | 생성시 매개변수 입력 여부: X"
      ],
      "metadata": {
        "id": "NgrpS4NlOeUq"
      }
    },
    {
      "cell_type": "code",
      "source": [
        "class Account:\n",
        "\n",
        "  def __init__(self):\n",
        "    self.bank_name = \"SC은행\"\n",
        "    # self.name = name\n",
        "    self.account_number = f\"{r.randint(100, 999)}-{r.randint(10, 99)}-{r.randint(100000, 999999)}\"\n",
        "    # self.balance = balance\n",
        "\n",
        "# test1 = Account(name='Kim', balance=20000)\n",
        "\n",
        "test2 = Account()"
      ],
      "metadata": {
        "id": "VIL0xJC4NRoR"
      },
      "execution_count": 33,
      "outputs": []
    },
    {
      "cell_type": "markdown",
      "source": [
        "case 3/4: 매개변수 여부: O | 생성시 매개변수 입력 여부: X"
      ],
      "metadata": {
        "id": "BVa4bnFWOseq"
      }
    },
    {
      "cell_type": "code",
      "source": [
        "class Account:\n",
        "\n",
        "  def __init__(self, name, balance):\n",
        "    self.bank_name = \"SC은행\"\n",
        "    self.name = name\n",
        "    self.account_number = f\"{r.randint(100, 999)}-{r.randint(10, 99)}-{r.randint(100000, 999999)}\"\n",
        "    self.balance = balance\n",
        "# test1 = Account(name='Kim', balance=20000)\n",
        "\n",
        "test2 = Account()"
      ],
      "metadata": {
        "colab": {
          "base_uri": "https://localhost:8080/",
          "height": 176
        },
        "id": "3Vmwtmk5OBic",
        "outputId": "4dfc29b9-1fd0-479b-d0f9-34c67ccae813"
      },
      "execution_count": 34,
      "outputs": [
        {
          "output_type": "error",
          "ename": "TypeError",
          "evalue": "Account.__init__() missing 2 required positional arguments: 'name' and 'balance'",
          "traceback": [
            "\u001b[0;31m---------------------------------------------------------------------------\u001b[0m",
            "\u001b[0;31mTypeError\u001b[0m                                 Traceback (most recent call last)",
            "\u001b[0;32m<ipython-input-34-001b5694a594>\u001b[0m in \u001b[0;36m<cell line: 10>\u001b[0;34m()\u001b[0m\n\u001b[1;32m      8\u001b[0m \u001b[0;31m# test1 = Account(name='Kim', balance=20000)\u001b[0m\u001b[0;34m\u001b[0m\u001b[0;34m\u001b[0m\u001b[0m\n\u001b[1;32m      9\u001b[0m \u001b[0;34m\u001b[0m\u001b[0m\n\u001b[0;32m---> 10\u001b[0;31m \u001b[0mtest2\u001b[0m \u001b[0;34m=\u001b[0m \u001b[0mAccount\u001b[0m\u001b[0;34m(\u001b[0m\u001b[0;34m)\u001b[0m\u001b[0;34m\u001b[0m\u001b[0;34m\u001b[0m\u001b[0m\n\u001b[0m",
            "\u001b[0;31mTypeError\u001b[0m: Account.__init__() missing 2 required positional arguments: 'name' and 'balance'"
          ]
        }
      ]
    },
    {
      "cell_type": "markdown",
      "source": [
        "case 4/4: 매개변수 여부: X | 생성시 매개변수 입력 여부: O"
      ],
      "metadata": {
        "id": "Sx2GvRlFOyTE"
      }
    },
    {
      "cell_type": "code",
      "source": [
        "class Account:\n",
        "\n",
        "  def __init__(self):\n",
        "    self.bank_name = \"SC은행\"\n",
        "    self.account_number = f\"{r.randint(100, 999)}-{r.randint(10, 99)}-{r.randint(100000, 999999)}\"\n",
        "\n",
        "test1 = Account(name='Kim', balance=20000)\n",
        "\n",
        "# test2 = Account()"
      ],
      "metadata": {
        "colab": {
          "base_uri": "https://localhost:8080/",
          "height": 228
        },
        "id": "ILqzJzCtOFSS",
        "outputId": "236ea0f5-921f-4923-c5cf-596bd93a5268"
      },
      "execution_count": 35,
      "outputs": [
        {
          "output_type": "error",
          "ename": "TypeError",
          "evalue": "Account.__init__() got an unexpected keyword argument 'name'",
          "traceback": [
            "\u001b[0;31m---------------------------------------------------------------------------\u001b[0m",
            "\u001b[0;31mTypeError\u001b[0m                                 Traceback (most recent call last)",
            "\u001b[0;32m<ipython-input-35-4f8f7dca3251>\u001b[0m in \u001b[0;36m<cell line: 7>\u001b[0;34m()\u001b[0m\n\u001b[1;32m      5\u001b[0m     \u001b[0mself\u001b[0m\u001b[0;34m.\u001b[0m\u001b[0maccount_number\u001b[0m \u001b[0;34m=\u001b[0m \u001b[0;34mf\"{r.randint(100, 999)}-{r.randint(10, 99)}-{r.randint(100000, 999999)}\"\u001b[0m\u001b[0;34m\u001b[0m\u001b[0;34m\u001b[0m\u001b[0m\n\u001b[1;32m      6\u001b[0m \u001b[0;34m\u001b[0m\u001b[0m\n\u001b[0;32m----> 7\u001b[0;31m \u001b[0mtest1\u001b[0m \u001b[0;34m=\u001b[0m \u001b[0mAccount\u001b[0m\u001b[0;34m(\u001b[0m\u001b[0mname\u001b[0m\u001b[0;34m=\u001b[0m\u001b[0;34m'Kim'\u001b[0m\u001b[0;34m,\u001b[0m \u001b[0mbalance\u001b[0m\u001b[0;34m=\u001b[0m\u001b[0;36m20000\u001b[0m\u001b[0;34m)\u001b[0m\u001b[0;34m\u001b[0m\u001b[0;34m\u001b[0m\u001b[0m\n\u001b[0m\u001b[1;32m      8\u001b[0m \u001b[0;34m\u001b[0m\u001b[0m\n\u001b[1;32m      9\u001b[0m \u001b[0;31m# test2 = Account()\u001b[0m\u001b[0;34m\u001b[0m\u001b[0;34m\u001b[0m\u001b[0m\n",
            "\u001b[0;31mTypeError\u001b[0m: Account.__init__() got an unexpected keyword argument 'name'"
          ]
        }
      ]
    },
    {
      "cell_type": "markdown",
      "source": [
        "###### 추가 case:\n",
        "- 생성자의 매개변수 갯수와 인스턴스 생성시의 매개변수 갯수는 같지만\n",
        "- 매개변수가 받은 값을 생성자 내에서 전부 다시 선언하지 않는 경우"
      ],
      "metadata": {
        "id": "6ajZyuBTQceO"
      }
    },
    {
      "cell_type": "code",
      "source": [
        "class Account:\n",
        "\n",
        "  def __init__(self, name, balance):\n",
        "    self.bank_name = \"SC은행\"\n",
        "    # self.name = name\n",
        "    self.account_number = f\"{r.randint(100, 999)}-{r.randint(10, 99)}-{r.randint(100000, 999999)}\"\n",
        "    # self.balance = balance\n",
        "\n",
        "test1 = Account(name='Kim', balance=20000)\n",
        "\n",
        "# test2 = Account()"
      ],
      "metadata": {
        "id": "pzj8QUXtQUcK"
      },
      "execution_count": 36,
      "outputs": []
    },
    {
      "cell_type": "markdown",
      "source": [
        "##### Note:"
      ],
      "metadata": {
        "id": "OlRRENpRVnzd"
      }
    },
    {
      "cell_type": "markdown",
      "source": [
        "```\n",
        "random.randint(100, 999)\n",
        "# 랜덤하게 불러온다.100 ~ 999 (inclusive) 정수 중에서.\n",
        "\n",
        "```\n",
        "```\n",
        "def __init__(self, name, balance) # 매직매서드(매개변수로 채워 넣을 수 있는 객체들)\n",
        "self.name = name\n",
        "self.balance = balance\n",
        "\n",
        "```\n",
        "자동으로 초기화되지 않는 이런 객체들은 굳이 생성자에서 선언하지 않아도 된다. (❓ 따로 넣어도 생성은 된다. ❓)\n",
        "\n",
        "하지만 인스턴스 관리 시에 꼭 필요한 정보라면, 입력 없이 생성되면 안 된다. 매개변수로 지정해주면 입력을 받아야만 성공적으로 생성되게 된다.\n",
        "\n",
        "```\n",
        "# 지정 초기화된 객체들:\n",
        "self.bank_name = \"SC은행\"\n",
        "self.account_number = f\"{r.randint(100, 999)}-{r.randint(10, 99)}-{r.randint(100000, 999999)}\"  # 계좌번호 랜덤 배정\n",
        "```"
      ],
      "metadata": {
        "id": "6jCa96pnHI9b"
      }
    },
    {
      "cell_type": "markdown",
      "source": [
        "### account_num : Q2 클래스 변수 선언, 활용"
      ],
      "metadata": {
        "id": "mYprALhm2VvH"
      }
    },
    {
      "cell_type": "markdown",
      "source": [
        "> Q2. 클래스 변수: 클래스 변수를 사용해서 Account 클래스로부터 생성된 계좌 객체의 개수를 저장하세요.\n",
        "\n",
        "* 클래스 변수: 클래스의 모든 인스턴스가 공유하는 변수. 클래스 자체에 속함.\n",
        "* 인스턴스 변수: 각 인스턴스 안에서 따로 선언되는 변수. 각 인스턴스에 속함.\n",
        "\n"
      ],
      "metadata": {
        "id": "Rs5Wz1w92Oli"
      }
    },
    {
      "cell_type": "markdown",
      "source": [
        "```\n",
        "  # 클래스 변수 : 생성된 계좌 개수 (저장할 변수)\n",
        "  account_num = 0\n",
        "```\n",
        "```\n",
        "    # 생성된 계좌 개수 1추가 (클래스 변수 유효성 유지)\n",
        "    Account.account_num += 1  # 생성자가 인스턴스를 하나 생성할 때마다 1씩 증가하게 됨\n",
        "```\n",
        "객체 너머, 클래스 단위의 변수는 '클래스명.'으로 조회가 가능하다.\n",
        "인스턴스 내의 객체를 '인스턴스명.' 또는 인스턴스 내부에서는 'self.' 로 조회가 가능하듯이."
      ],
      "metadata": {
        "id": "SxIYR5o2XPJP"
      }
    },
    {
      "cell_type": "markdown",
      "source": [
        "##### test:"
      ],
      "metadata": {
        "id": "AVBSQ_1WUHNX"
      }
    },
    {
      "cell_type": "markdown",
      "source": [
        "###### 현재 코드:"
      ],
      "metadata": {
        "id": "_--B-hGmUIY4"
      }
    },
    {
      "cell_type": "code",
      "source": [
        "class Account:\n",
        "\n",
        "  # 클래스 변수 : 생성된 계좌 개수 (저장할 변수)\n",
        "  account_num = 0\n",
        "\n",
        "  def __init__(self, name, balance):\n",
        "    self.bank_name = \"SC은행\"\n",
        "    self.name = name\n",
        "    self.account_number = f\"{r.randint(100, 999)}-{r.randint(10, 99)}-{r.randint(100000, 999999)}\"\n",
        "    self.balance = balance\n",
        "\n",
        "    # 생성된 계좌 개수 1추가 (클래스 변수 유효성 유지)\n",
        "    Account.account_num += 1  # 생성자가 인스턴스를 하나 생성할 때마다 1씩 증가하게 됨"
      ],
      "metadata": {
        "id": "D3pRkZB8UKMH"
      },
      "execution_count": 41,
      "outputs": []
    },
    {
      "cell_type": "markdown",
      "source": [
        "### 매서드 생성 및 관리: Q3 ~ Q7"
      ],
      "metadata": {
        "id": "bE1qyLr-8Uvz"
      }
    },
    {
      "cell_type": "markdown",
      "source": [
        "#### get_account_num() : Q3 매서드 1 생성"
      ],
      "metadata": {
        "id": "7SRen9av2Dkl"
      }
    },
    {
      "cell_type": "markdown",
      "source": [
        "\n",
        "\n",
        "> Q3. 클래스 변수 출력 : Account 클래스로부터 생성된 계좌의 개수를 출력하는 get_account_num() 메서드를 추가하세요.\n"
      ],
      "metadata": {
        "id": "Vnx6IfFN1RkU"
      }
    },
    {
      "cell_type": "markdown",
      "source": [
        "```\n",
        "  def get_account_num(self):\n",
        "    return f\"계좌 개수 : {Account.account_num}\"   # 클래스 변수 account_num 만 출력 (반환)\n",
        "```"
      ],
      "metadata": {
        "id": "cGgXo9fYSgWO"
      }
    },
    {
      "cell_type": "markdown",
      "source": [
        "##### test:"
      ],
      "metadata": {
        "id": "vqR9nTsCMK80"
      }
    },
    {
      "cell_type": "markdown",
      "source": [
        "###### 현재 코드:"
      ],
      "metadata": {
        "id": "YDnHd4rzUBR7"
      }
    },
    {
      "cell_type": "code",
      "execution_count": 45,
      "metadata": {
        "colab": {
          "base_uri": "https://localhost:8080/",
          "height": 35
        },
        "id": "xbBhs0NZ0h8S",
        "outputId": "7a7a1e12-3b04-4d6d-dcb6-947ce27ca7d1"
      },
      "outputs": [
        {
          "output_type": "execute_result",
          "data": {
            "text/plain": [
              "'계좌 개수 : 2'"
            ],
            "application/vnd.google.colaboratory.intrinsic+json": {
              "type": "string"
            }
          },
          "metadata": {},
          "execution_count": 45
        }
      ],
      "source": [
        "class Account:\n",
        "\n",
        "  account_num = 0\n",
        "\n",
        "  def __init__(self, name, balance):\n",
        "    self.bank_name = \"SC은행\"\n",
        "    self.name = name\n",
        "    self.account_number = f\"{r.randint(100, 999)}-{r.randint(10, 99)}-{r.randint(100000, 999999)}\"\n",
        "    self.balance = balance\n",
        "\n",
        "    Account.account_num += 1\n",
        "\n",
        "  def get_account_num(self):\n",
        "    return f\"계좌 개수 : {Account.account_num}\"   # 클래스 변수 account_num 만 출력 (반환)\n",
        "\n",
        "\n",
        "# tests\n",
        "\n",
        "test1 = Account(name='Kim', balance=20000)\n",
        "test1.get_account_num()\n",
        "\n",
        "test2 = Account(name='Jung', balance=20)\n",
        "test2.get_account_num()\n",
        "\n",
        "# test3 = Account()\n",
        "# test.get_account_num()"
      ]
    },
    {
      "cell_type": "markdown",
      "source": [
        "##### Note:"
      ],
      "metadata": {
        "id": "6xfyIyirWGex"
      }
    },
    {
      "cell_type": "markdown",
      "source": [
        "```\n",
        "# 주의: 선언되는 모든 내용(객체와 매서드)에서 연결지어줘야 하는 'self'\n",
        "def get_account_num(self)\n",
        "```"
      ],
      "metadata": {
        "id": "hRMuQsjbI8bc"
      }
    },
    {
      "cell_type": "markdown",
      "source": [
        "#### deposit() : Q4 매서드 2 생성"
      ],
      "metadata": {
        "id": "m3YOxUwM2n1s"
      }
    },
    {
      "cell_type": "markdown",
      "source": [
        "Account class 내의 매서드:\n",
        "1. get_account_num()\n",
        "2. deposit()"
      ],
      "metadata": {
        "id": "XH4W4Mtm3DHi"
      }
    },
    {
      "cell_type": "markdown",
      "source": [
        "> Q4. 입금 메서드 : Account 클래스에 입금을 위한 deposit 메서드를 추가하세요. 입금은 최소 1원 이상만 가능합니다.\n",
        "\n"
      ],
      "metadata": {
        "id": "-aGvaV7E2uxt"
      }
    },
    {
      "cell_type": "markdown",
      "source": [
        "```\n",
        "  def deposit(self, amount):    # 아래의 이유로 받을 변수 amount\n",
        "  \n",
        "    # 조건 : 1원 이상 입금 가능  <- 변수 amount 사용\n",
        "    if amount < 1:\n",
        "      print('입금은 최소 1원 이상만 가능합니다.')\n",
        "      return  # 나머지 작업을 수행하지 않고 끝내버린다. (매서드를 종료시킨다.)\n",
        "\n",
        "    # 조건에 부합했다면 아래 수행\n",
        "    self.balance += amount      # 잔액 업데이트: 잔액에 입금 금액 추가\n",
        "    print(f\"{amount}원 입금되었습니다.\")\n",
        "\n",
        "```"
      ],
      "metadata": {
        "id": "OY95mLrVaHZD"
      }
    },
    {
      "cell_type": "markdown",
      "source": [
        "#####Test:"
      ],
      "metadata": {
        "id": "gFq0E47GaB24"
      }
    },
    {
      "cell_type": "markdown",
      "source": [
        "###### 현재 코드"
      ],
      "metadata": {
        "id": "AlQ0wgL3aGAw"
      }
    },
    {
      "cell_type": "code",
      "source": [
        "class Account:\n",
        "\n",
        "  account_num = 0\n",
        "\n",
        "  def __init__(self, name, balance):\n",
        "    self.bank_name = \"SC은행\"\n",
        "    self.name = name\n",
        "    self.account_number = f\"{r.randint(100, 999)}-{r.randint(10, 99)}-{r.randint(100000, 999999)}\"\n",
        "    self.balance = balance\n",
        "\n",
        "    Account.account_num += 1\n",
        "\n",
        "  def get_account_num(self):\n",
        "    return f\"계좌 개수 : {Account.account_num}\"\n",
        "\n",
        "  def deposit(self, amount):    # 아래의 이유로 받을 변수 amount\n",
        "\n",
        "    # 조건 : 1원 이상 입금 가능  <- 변수 amount 사용\n",
        "    if amount < 1:\n",
        "      print('입금은 최소 1원 이상만 가능합니다.')\n",
        "      return  # 나머지 작업을 수행하지 않고 끝내버린다. (매서드를 종료시킨다.)\n",
        "\n",
        "    # 조건에 부합했다면 아래 수행\n",
        "    self.balance += amount      # 잔액 업데이트: 잔액에 입금 금액 추가\n",
        "    print(f\"{amount}원 입금되었습니다.\")\n",
        "\n",
        "\n",
        "# tests\n",
        "test = Account('Kim', 20000)\n",
        "test.deposit(30000)\n",
        "test.deposit(-10)"
      ],
      "metadata": {
        "colab": {
          "base_uri": "https://localhost:8080/"
        },
        "id": "h-yJkf-kaLDa",
        "outputId": "60edfda5-b54b-4549-f866-158856334330"
      },
      "execution_count": 51,
      "outputs": [
        {
          "output_type": "stream",
          "name": "stdout",
          "text": [
            "30000원 입금되었습니다.\n",
            "입금은 최소 1원 이상만 가능합니다.\n"
          ]
        }
      ]
    },
    {
      "cell_type": "markdown",
      "source": [
        "##### Note:\n"
      ],
      "metadata": {
        "id": "Xfwgfkv1X32b"
      }
    },
    {
      "cell_type": "markdown",
      "source": [
        "#### withdraw() : Q5 매서드 3 생성"
      ],
      "metadata": {
        "id": "T4HHpS_fgJtN"
      }
    },
    {
      "cell_type": "markdown",
      "source": [
        "Account class 내의 매서드:\n",
        "\n",
        "1. get_account_num()\n",
        "2. deposit()\n",
        "3. withdraw()"
      ],
      "metadata": {
        "id": "q34qXc04gJtU"
      }
    },
    {
      "cell_type": "markdown",
      "source": [
        "> Q5. 출금 메서드 : Account 클래스에 출금을 위한 withdraw 메서드를 추가하세요. 출금은 계좌의 잔고 이상으로 출금할 수는 없습니다."
      ],
      "metadata": {
        "id": "us1jC84_gJtU"
      }
    },
    {
      "cell_type": "markdown",
      "source": [
        "deposit()과 같은 맥락이다.\n",
        "```\n",
        "  def withdraw(self, amount):\n",
        "    # 한 가지 조건 검사\n",
        "    if amount > self.balance:\n",
        "      print('계좌의 잔고 이상으로 출금할 수 없습니다.')\n",
        "      return      # 아래를 수행하지 않고 매서드 종료\n",
        "\n",
        "    # 조건에 부합했다면 아래 수행    \n",
        "    self.balance -= amount      # 잔액 업데이트: 잔액에 출금 금액 절감\n",
        "    print(f\"{amount}원 출금되었습니다.\")\n",
        "```"
      ],
      "metadata": {
        "id": "PNwt93_ggJtU"
      }
    },
    {
      "cell_type": "markdown",
      "source": [
        "##### test:"
      ],
      "metadata": {
        "id": "R3xZ9DcsgJtU"
      }
    },
    {
      "cell_type": "markdown",
      "source": [
        "###### 현재 코드:"
      ],
      "metadata": {
        "id": "-tW9FAN-gJtU"
      }
    },
    {
      "cell_type": "code",
      "execution_count": 53,
      "metadata": {
        "colab": {
          "base_uri": "https://localhost:8080/"
        },
        "id": "mziJHyJxgJtU",
        "outputId": "4b5d8b21-b746-4a9f-a02a-b1b9c802bd25"
      },
      "outputs": [
        {
          "output_type": "stream",
          "name": "stdout",
          "text": [
            "5000원 출금되었습니다.\n",
            "계좌의 잔고 이상으로 출금할 수 없습니다.\n"
          ]
        }
      ],
      "source": [
        "class Account:\n",
        "\n",
        "  account_num = 0\n",
        "\n",
        "  def __init__(self, name, balance):\n",
        "    self.bank_name = \"SC은행\"\n",
        "    self.name = name\n",
        "    self.account_number = f\"{r.randint(100, 999)}-{r.randint(10, 99)}-{r.randint(100000, 999999)}\"\n",
        "    self.balance = balance\n",
        "\n",
        "    Account.account_num += 1\n",
        "\n",
        "  def get_account_num(self):\n",
        "    return f\"계좌 개수 : {Account.account_num}\"\n",
        "\n",
        "  def deposit(self, amount):\n",
        "    if amount < 1:\n",
        "      print('입금은 최소 1원 이상만 가능합니다.')\n",
        "      return\n",
        "\n",
        "    self.balance += amount\n",
        "    print(f\"{amount}원 입금되었습니다.\")\n",
        "\n",
        "  def withdraw(self, amount):\n",
        "    # 한 가지 조건 검사\n",
        "    if amount > self.balance:\n",
        "      print('계좌의 잔고 이상으로 출금할 수 없습니다.')\n",
        "      return      # 아래를 수행하지 않고 매서드 종료\n",
        "\n",
        "    # 조건에 부합했다면 아래 수행\n",
        "    self.balance -= amount      # 잔액 업데이트: 잔액에 출금 금액 절감\n",
        "    print(f\"{amount}원 출금되었습니다.\")\n",
        "\n",
        "\n",
        "\n",
        "# tests\n",
        "test = Account('Kim', 20000)\n",
        "test.withdraw(5000)\n",
        "test.withdraw(50000)"
      ]
    },
    {
      "cell_type": "markdown",
      "source": [
        "##### Note:"
      ],
      "metadata": {
        "id": "lCdnLda5gJtU"
      }
    },
    {
      "cell_type": "markdown",
      "source": [
        "```\n",
        "알게 된 내용\n",
        "(코드 및 주석)\n",
        "```\n",
        "설명"
      ],
      "metadata": {
        "id": "noDwOWjcgJtU"
      }
    },
    {
      "cell_type": "markdown",
      "source": [
        "#### display_info() : Q6 매서드 4 생성"
      ],
      "metadata": {
        "id": "5WIfZyuLgRsc"
      }
    },
    {
      "cell_type": "markdown",
      "source": [
        "Account class 내의 매서드:\n",
        "\n",
        "1. get_account_num()\n",
        "2. deposit()\n",
        "3. withdraw()\n",
        "4. display_info()\n",
        "  * 은행이름, 예금주, 계좌번호, 잔고 출력\n",
        "  * 잔고 출력시: 천 단위로 쉼표"
      ],
      "metadata": {
        "id": "LK_hs9-8gRsk"
      }
    },
    {
      "cell_type": "markdown",
      "source": [
        "> Q6. 정보 출력 메서드 : Account 인스턴스에 저장된 정보를 출력하는 display_info() 메서드를 추가하세요. 잔고는 세자리마다 쉼표를\n",
        "출력하세요.\n",
        "(은행이름: SC은행, 예금주: 파이썬, 계좌번호: 111-11-111111, 잔고: 10,000원)"
      ],
      "metadata": {
        "id": "vcwSRsL0gRsk"
      }
    },
    {
      "cell_type": "markdown",
      "source": [
        "```\n",
        "  def display_info(self):     # 출력 기능 (객체 조회하여 출력)\n",
        "    print(f\"\"\"\n",
        "은행이름 : {self.bank_name}\n",
        "예금주 : {self.name}\n",
        "계좌번호 : {self.account_number}\n",
        "잔고 : {self.balance}    \n",
        "          \"\"\")\n",
        "```\n",
        "\n",
        "리스트로 저장이 아닌 출력이 중점이므로 간단히."
      ],
      "metadata": {
        "id": "ur-ERYoggRsk"
      }
    },
    {
      "cell_type": "markdown",
      "source": [
        "##### test:"
      ],
      "metadata": {
        "id": "Taw-igclgRsk"
      }
    },
    {
      "cell_type": "markdown",
      "source": [
        "###### 현재 코드:"
      ],
      "metadata": {
        "id": "vNaqTaevgRsk"
      }
    },
    {
      "cell_type": "code",
      "execution_count": 57,
      "metadata": {
        "colab": {
          "base_uri": "https://localhost:8080/"
        },
        "id": "RIDAUvVjgRsk",
        "outputId": "08b5ed98-0795-4ee1-e6fb-f3a9574a9af8"
      },
      "outputs": [
        {
          "output_type": "stream",
          "name": "stdout",
          "text": [
            "\n",
            "은행이름 : SC은행\n",
            "예금주 : Kim\n",
            "계좌번호 : 990-61-965881\n",
            "잔고 : 20000    \n",
            "          \n"
          ]
        }
      ],
      "source": [
        "class Account:\n",
        "\n",
        "  account_num = 0\n",
        "\n",
        "  def __init__(self, name, balance):\n",
        "    self.bank_name = \"SC은행\"\n",
        "    self.name = name\n",
        "    self.account_number = f\"{r.randint(100, 999)}-{r.randint(10, 99)}-{r.randint(100000, 999999)}\"\n",
        "    self.balance = balance\n",
        "\n",
        "    Account.account_num += 1\n",
        "\n",
        "  def get_account_num(self):\n",
        "    return f\"계좌 개수 : {Account.account_num}\"\n",
        "\n",
        "  def deposit(self, amount):\n",
        "    if amount < 1:\n",
        "      print('입금은 최소 1원 이상만 가능합니다.')\n",
        "      return\n",
        "\n",
        "    self.balance += amount\n",
        "    print(f\"{amount}원 입금되었습니다.\")\n",
        "\n",
        "  def withdraw(self, amount):\n",
        "    if amount > self.balance:\n",
        "      print('계좌의 잔고 이상으로 출금할 수 없습니다.')\n",
        "      return\n",
        "\n",
        "    self.balance -= amount\n",
        "    print(f\"{amount}원 출금되었습니다.\")\n",
        "\n",
        "  def display_info(self):     # 출력 기능 (객체 조회하여 출력)\n",
        "    print(f\"\"\"\n",
        "은행이름 : {self.bank_name}\n",
        "예금주 : {self.name}\n",
        "계좌번호 : {self.account_number}\n",
        "잔고 : {self.balance}\n",
        "          \"\"\")\n",
        "\n",
        "# tests\n",
        "test = Account('Kim', 20000)\n",
        "test.display_info()"
      ]
    },
    {
      "cell_type": "markdown",
      "source": [
        "##### Note:"
      ],
      "metadata": {
        "id": "FiVm8OWwgRsl"
      }
    },
    {
      "cell_type": "markdown",
      "source": [
        "* f-string 활용 (기본)\n",
        "* join() 활용\n",
        "```\n",
        "  _str 변수_ = \"_구분 기준이 될 문자열_\".join([_\"더할 문자열1\"_, _\"더할 문자열2\"_, _\"...\"_])\n",
        "  print(_str변수_)\n",
        "```\n",
        "\n",
        "* map() 활용 (단순 출력이 아니라 리스트로 저장이 필요하다면)\n",
        "```\n",
        "```"
      ],
      "metadata": {
        "id": "IpBsAFoYgRsl"
      }
    },
    {
      "cell_type": "markdown",
      "source": [
        "#### 이자 지급 deposit_count, interest : Q7 매서드 수정 (인스턴스 변수 생성, 관련 변수 수정)"
      ],
      "metadata": {
        "id": "FMm8cBM9gDMd"
      }
    },
    {
      "cell_type": "markdown",
      "source": [
        "Account class 내의 매서드:\n",
        "\n",
        "1. get_account_num()\n",
        "2. deposit()\n",
        "\n",
        "    기존:\n",
        "    \n",
        "    * 입금 금액만 추가\n",
        "\n",
        "  변경 후:\n",
        "\n",
        "    * __입금 금액 추가 시 입금 횟수 증가__\n",
        "    * __입금 금액 == 5일 시 잔고 기준 1% 이자 지급__\n",
        "\n",
        "3. withdraw()\n",
        "4. display_info()"
      ],
      "metadata": {
        "id": "WXMswoNZfxwr"
      }
    },
    {
      "cell_type": "markdown",
      "source": [
        "> Q7. 이자 지급하기 : 입금 횟수가 5회가 될 때 잔고를 기준으로 1%의 이자가 잔고에 추가되도록 코드를 변경해보세요.\n",
        "\n",
        "* (적금의 경우 횟수로 가능)"
      ],
      "metadata": {
        "id": "Ac3noa3sgDMk"
      }
    },
    {
      "cell_type": "markdown",
      "source": [
        "```\n",
        "  def __init__(self, name, balance):\n",
        "    ...\n",
        "    self.deposit_num = 0   # 입금 횟수 카운트\n",
        "\n",
        "  def deposit(self, amount):\n",
        "    ... (입금 처리 후)\n",
        "\n",
        "    self.deposit_num += 1    # 입금 횟수 1회 증가\n",
        "    # deposit 실행 시이므로: 입금 금액 추가 시 입금 횟수 증가\n",
        "    \n",
        "    # 이자 지급\n",
        "    if self.deposit_num == 5:\n",
        "      interest = self.balance * 0.01\n",
        "      self.balance += interest  # 이자 지급된 금액으로 잔고 업데이트\n",
        "      self.deposit_num = 0   # 5가 차면 다시 0으로 초기화\n",
        "      print(f\"이자가 지급되었습니다.\")\n",
        "\n",
        "```\n",
        "**Q. deposit_num 변수를 어디에 선언할 것인가?**\n",
        "* **인스턴스 밖에서 유효해야만 한다면: 클래스 내 & 생성자 전에, _클래스명._으로 조회되도록 선언**\n",
        "* **인스턴스 안에서만 유효하면 된다면: 생성자 내에, _인스턴스명._ 또는 (인스턴스 내부에서는) _self._로 조회되도록 선언**"
      ],
      "metadata": {
        "id": "2afcllPcgDMk"
      }
    },
    {
      "cell_type": "markdown",
      "source": [
        "##### test:"
      ],
      "metadata": {
        "id": "BWB_p43tgDMk"
      }
    },
    {
      "cell_type": "markdown",
      "source": [
        "###### 현재 코드:"
      ],
      "metadata": {
        "id": "-iYXtOEngDMk"
      }
    },
    {
      "cell_type": "code",
      "execution_count": 59,
      "metadata": {
        "colab": {
          "base_uri": "https://localhost:8080/"
        },
        "id": "PyXWjD_LgDMk",
        "outputId": "592daede-8c03-4270-931b-65ea4547284d"
      },
      "outputs": [
        {
          "output_type": "stream",
          "name": "stdout",
          "text": [
            "\n",
            "은행이름 : SC은행\n",
            "예금주 : Kim\n",
            "계좌번호 : 377-66-636035\n",
            "잔고 : 20000    \n",
            "          \n",
            "100원 입금되었습니다.\n",
            "100원 입금되었습니다.\n",
            "100원 입금되었습니다.\n",
            "100원 입금되었습니다.\n",
            "100원 입금되었습니다.\n",
            "이자가 지급되었습니다.\n",
            "\n",
            "은행이름 : SC은행\n",
            "예금주 : Kim\n",
            "계좌번호 : 377-66-636035\n",
            "잔고 : 20705.0    \n",
            "          \n"
          ]
        }
      ],
      "source": [
        "class Account:\n",
        "\n",
        "  account_num = 0\n",
        "  # deposit_num = 0   # 입금 횟수 카운트, 계좌 밖에 해당하는 내용이 아니므로 계좌 안으로 옮긴다.\n",
        "\n",
        "  def __init__(self, name, balance):\n",
        "    self.bank_name = \"SC은행\"\n",
        "    self.name = name\n",
        "    self.account_number = f\"{r.randint(100, 999)}-{r.randint(10, 99)}-{r.randint(100000, 999999)}\"\n",
        "    self.balance = balance\n",
        "    self.deposit_num = 0   # 입금 횟수 카운트\n",
        "\n",
        "    Account.account_num += 1\n",
        "\n",
        "  def get_account_num(self):\n",
        "    return f\"계좌 개수 : {Account.account_num}\"\n",
        "\n",
        "  def deposit(self, amount):\n",
        "\n",
        "    if amount < 1:\n",
        "      print('입금은 최소 1원 이상만 가능합니다.')\n",
        "      return\n",
        "\n",
        "    self.balance += amount\n",
        "    print(f\"{amount}원 입금되었습니다.\")\n",
        "    self.deposit_num += 1    # 입금 횟수 1회 증가           deposit 실행 시이므로: 입금 금액 추가 시 입금 횟수 증가\n",
        "    # 이자 지급\n",
        "    if self.deposit_num == 5:\n",
        "      interest = self.balance * 0.01           # 가독성을 위해 이자와 이자가 포함된 잔고를 구분함\n",
        "      self.balance += interest  # 이자 지급된 금액으로 잔고 업데이트\n",
        "      self.deposit_num = 0   # 5가 차면 다시 0으로 초기화\n",
        "      print(f\"이자가 지급되었습니다.\")\n",
        "\n",
        "  def withdraw(self, amount):\n",
        "    if amount > self.balance:\n",
        "      print('계좌의 잔고 이상으로 출금할 수 없습니다.')\n",
        "      return\n",
        "\n",
        "    self.balance -= amount\n",
        "    print(f\"{amount}원 출금되었습니다.\")\n",
        "\n",
        "  def display_info(self):\n",
        "    print(f\"\"\"\n",
        "은행이름 : {self.bank_name}\n",
        "예금주 : {self.name}\n",
        "계좌번호 : {self.account_number}\n",
        "잔고 : {self.balance}\n",
        "          \"\"\")\n",
        "\n",
        "# tests\n",
        "test = Account('Kim', 20000)\n",
        "test.display_info()\n",
        "test.deposit(100)\n",
        "test.deposit(100)\n",
        "test.deposit(100)\n",
        "test.deposit(100)\n",
        "test.deposit(100)\n",
        "test.display_info()\n"
      ]
    },
    {
      "cell_type": "markdown",
      "source": [
        "##### Note:"
      ],
      "metadata": {
        "id": "Z1KHI2XCgDMl"
      }
    },
    {
      "cell_type": "markdown",
      "source": [
        "```\n",
        "알게 된 내용\n",
        "(코드 및 주석)\n",
        "```\n",
        "설명"
      ],
      "metadata": {
        "id": "B7XSRrregDMl"
      }
    },
    {
      "cell_type": "markdown",
      "source": [
        "### 인스턴스(1,2,3) 생성 및 리스트로 저장 : Q8 인스턴스 관리 (클래스 활용)"
      ],
      "metadata": {
        "id": "IgxtAecf71JA"
      }
    },
    {
      "cell_type": "markdown",
      "source": [
        "> Q8. 여러 객체 생성 : Account 클래스로부터 3개 이상 인스턴스를 생성하고 생성된 인스턴스를 리스트에 저장해보세요."
      ],
      "metadata": {
        "id": "rgY05rn64Sca"
      }
    },
    {
      "cell_type": "markdown",
      "source": [
        "두 부분:\n",
        "1. 인스턴스 관리를 위한 변수를 클래스 내에 추가하고 관리\n",
        "```\n",
        "class Account:\n",
        "\n",
        "      account = []  # 모든 Account 인스턴스를 저장하는 리스트\n",
        "```\n",
        "```\n",
        "  def __init__(self, name, balance):\n",
        "    ...\n",
        "    # Account.account_num += 1\n",
        "    Account.accounts.append(self)   # 생성과 함께 Account 클래스 변수인 accounts 리스트에 자기 자신을 저장\n",
        "```\n",
        "\n",
        "2. 리스트 변수가 추가됨에 따라 계좌개수 확인 기능 개선\n",
        "  * 두 가지 무효화\n",
        "```\n",
        "  # account_num = 0\n",
        "```\n",
        "```  \n",
        "  def __init__(self, name, balance):\n",
        "    ...\n",
        "    # Account.account_num += 1\n",
        "```\n",
        "  * 대체\n",
        "```\n",
        "  def __init__(self, name, balance):\n",
        "    ...\n",
        "    def get_account_num(self):\n",
        "        return f\"계좌 개수 : {len(Account.account)}\"    # Account.account_num 무효화. account 리스트의 길이로 사용\n",
        "```"
      ],
      "metadata": {
        "id": "ZIeLCcwxhwK_"
      }
    },
    {
      "cell_type": "markdown",
      "source": [
        "##### test:\n",
        "\n",
        "(만약 기본 실행 외에 여러가지 실험한 내용이 있다면 여기에 먼저 목록화)"
      ],
      "metadata": {
        "id": "l4OqWpZzhwLH"
      }
    },
    {
      "cell_type": "markdown",
      "source": [
        "###### 현재 코드:"
      ],
      "metadata": {
        "id": "ZlrcyVWthwLH"
      }
    },
    {
      "cell_type": "code",
      "source": [
        "class Account:\n",
        "\n",
        "  accounts = []  # 모든 Account 인스턴스를 저장하는 리스트\n",
        "\n",
        "  # account_num = 0\n",
        "\n",
        "  def __init__(self, name, balance):\n",
        "    self.bank_name = \"SC은행\"\n",
        "    self.name = name\n",
        "    self.account_number = f\"{r.randint(100, 999)}-{r.randint(10, 99)}-{r.randint(100000, 999999)}\"\n",
        "    self.balance = balance\n",
        "    self.deposit_num = 0\n",
        "\n",
        "    # Account.account_num += 1\n",
        "    Account.accounts.append(self)   # 생성과 함께 Account 클래스 변수인 accounts 리스트에 자기 자신을 저장\n",
        "\n",
        "  def get_account_num(self):\n",
        "    return f\"계좌 개수 : {len(Account.accounts)}\"    # Account.account_num 무효화. account 리스트의 길이로 사용\n",
        "\n",
        "  def deposit(self, amount):\n",
        "\n",
        "    if amount < 1:\n",
        "      print('입금은 최소 1원 이상만 가능합니다.')\n",
        "      return\n",
        "\n",
        "    self.balance += amount\n",
        "    print(f\"{amount}원 입금되었습니다.\")\n",
        "    self.deposit_num += 1\n",
        "    if self.deposit_num == 5:\n",
        "      interest = self.balance * 0.01\n",
        "      self.balance += interest\n",
        "      self.deposit_num = 0\n",
        "      print(f\"이자가 지급되었습니다.\")\n",
        "\n",
        "  def withdraw(self, amount):\n",
        "    if amount > self.balance:\n",
        "      print('계좌의 잔고 이상으로 출금할 수 없습니다.')\n",
        "      return\n",
        "\n",
        "    self.balance -= amount\n",
        "    print(f\"{amount}원 출금되었습니다.\")\n",
        "\n",
        "  def display_info(self):\n",
        "    print(f\"\"\"\n",
        "은행이름 : {self.bank_name}\n",
        "예금주 : {self.name}\n",
        "계좌번호 : {self.account_number}\n",
        "잔고 : {self.balance}\n",
        "          \"\"\")\n",
        "\n",
        "\n",
        "\n",
        "# tests\n",
        "test1 = Account('Kim', 10000)\n",
        "test2 = Account('Jung', 20000)\n",
        "test3 = Account('Bae', 30000)\n",
        "\n",
        "for account in Account.accounts:      # 리스트 접근\n",
        "  account.display_info()              # 수행 내용으로 매서드 실행"
      ],
      "metadata": {
        "colab": {
          "base_uri": "https://localhost:8080/"
        },
        "id": "_ykwDlRZhwLH",
        "outputId": "854ec881-91a4-4dd0-b996-6f44eb92594d"
      },
      "execution_count": 68,
      "outputs": [
        {
          "output_type": "stream",
          "name": "stdout",
          "text": [
            "\n",
            "은행이름 : SC은행\n",
            "예금주 : Kim\n",
            "계좌번호 : 329-37-953495\n",
            "잔고 : 10000    \n",
            "          \n",
            "\n",
            "은행이름 : SC은행\n",
            "예금주 : Jung\n",
            "계좌번호 : 832-15-433496\n",
            "잔고 : 20000    \n",
            "          \n",
            "\n",
            "은행이름 : SC은행\n",
            "예금주 : Bae\n",
            "계좌번호 : 732-42-624266\n",
            "잔고 : 30000    \n",
            "          \n"
          ]
        }
      ]
    },
    {
      "cell_type": "markdown",
      "source": [
        "##### Note:"
      ],
      "metadata": {
        "id": "CgcShgVChwLI"
      }
    },
    {
      "cell_type": "markdown",
      "source": [
        "```\n",
        "for account in Account.accounts:      # 리스트 접근\n",
        "  account.display_info()              # 수행 내용으로 매서드 실행\n",
        "\n",
        "```\n",
        "이외에도 여러가지 가능:\n",
        "* 계좌 정보 중 일부 조회 가능\n",
        "  * 리스트 접근, 계좌 정보 중 일부 조회해서\n",
        "  * 관련 내용 보도록 매서드 수행\n",
        "* 특정 조건에 맞는 계좌 검색"
      ],
      "metadata": {
        "id": "w9KjA9HEhwLI"
      }
    },
    {
      "cell_type": "markdown",
      "source": [
        "### 객체 순회 반복문 : Q9 인스턴스 관리"
      ],
      "metadata": {
        "id": "U7lW5oQM8jY8"
      }
    },
    {
      "cell_type": "markdown",
      "source": [
        "> Q9. 객체 순회 반복문을 통해 리스트에 있는 객체를 순회하면서 잔고가 100만원 이상인 고객의 정보만 출력하세요.\n",
        "\n",
        "* 객체 순회 반복문\n",
        "  * __for__ : 반복 시 각 요소를 변수에 할당 가능\n",
        "  * __while__ : 조건이 참인 동안만 반복하므로 각 요소에 대해 조건 검사 가능\n",
        "  * __enumerate()__ : 인덱스와 함께 반환하므로 인덱스를 활용한 복잡한 처리 수행 가능"
      ],
      "metadata": {
        "id": "5bCoS1Xc4TzH"
      }
    },
    {
      "cell_type": "markdown",
      "source": [
        "수행 내용: 실행문 작성 (인스턴스 생성 후\n",
        "조건 검사)\n",
        "\n",
        "```\n",
        "# tests\n",
        "test1 = Account('Kim', 10000)\n",
        "test2 = Account('Jung', 20000)\n",
        "test3 = Account('Bae', 30000000)      # 필터에 부합하는 조건\n",
        "\n",
        "filter_balance = 1000000              # 필터링 기준 : 100만원\n",
        "for account in Account.accounts:      # 리스트 접근\n",
        "  # 조건 검사\n",
        "  if account.balance >= filter_balance:\n",
        "    account.display_info()            # 계좌 정보 출력 (매서드 사용)\n",
        "```"
      ],
      "metadata": {
        "id": "AgAEGoNVh3xp"
      }
    },
    {
      "cell_type": "markdown",
      "source": [
        "##### test:"
      ],
      "metadata": {
        "id": "FOBSLN0fh3xx"
      }
    },
    {
      "cell_type": "markdown",
      "source": [
        "###### 현재 코드:"
      ],
      "metadata": {
        "id": "J182Avkih3xx"
      }
    },
    {
      "cell_type": "code",
      "source": [
        "class Account:\n",
        "\n",
        "  accounts = []\n",
        "\n",
        "  def __init__(self, name, balance):\n",
        "    self.bank_name = \"SC은행\"\n",
        "    self.name = name\n",
        "    self.account_number = f\"{r.randint(100, 999)}-{r.randint(10, 99)}-{r.randint(100000, 999999)}\"\n",
        "    self.balance = balance\n",
        "    self.deposit_num = 0\n",
        "\n",
        "    Account.accounts.append(self)\n",
        "\n",
        "  def get_account_num(self):\n",
        "    return f\"계좌 개수 : {len(Account.accounts)}\"\n",
        "\n",
        "  def deposit(self, amount):\n",
        "\n",
        "    if amount < 1:\n",
        "      print('입금은 최소 1원 이상만 가능합니다.')\n",
        "      return\n",
        "\n",
        "    self.balance += amount\n",
        "    print(f\"{amount}원 입금되었습니다.\")\n",
        "    self.deposit_num += 1\n",
        "    if self.deposit_num == 5:\n",
        "      interest = self.balance * 0.01\n",
        "      self.balance += interest\n",
        "      self.deposit_num = 0\n",
        "      print(f\"이자가 지급되었습니다.\")\n",
        "\n",
        "  def withdraw(self, amount):\n",
        "    if amount > self.balance:\n",
        "      print('계좌의 잔고 이상으로 출금할 수 없습니다.')\n",
        "      return\n",
        "\n",
        "    self.balance -= amount\n",
        "    print(f\"{amount}원 출금되었습니다.\")\n",
        "\n",
        "  def display_info(self):\n",
        "    print(f\"\"\"\n",
        "은행이름 : {self.bank_name}\n",
        "예금주 : {self.name}\n",
        "계좌번호 : {self.account_number}\n",
        "잔고 : {self.balance}\n",
        "          \"\"\")\n",
        "\n",
        "\n",
        "\n",
        "# tests\n",
        "test1 = Account('Kim', 10000)\n",
        "test2 = Account('Jung', 20000)\n",
        "test3 = Account('Bae', 30000000)      # 필터에 부합하는 조건\n",
        "\n",
        "filter_balance = 1000000              # 필터링 기준 : 100만원\n",
        "for account in Account.accounts:      # 리스트 접근\n",
        "  # 조건 검사\n",
        "  if account.balance >= filter_balance:\n",
        "    account.display_info()            # 계좌 정보 출력 (매서드 사용)"
      ],
      "metadata": {
        "colab": {
          "base_uri": "https://localhost:8080/"
        },
        "id": "Blhx0F6Dh3xx",
        "outputId": "22f1d0df-ab11-4491-c761-2dd6e7eac005"
      },
      "execution_count": 71,
      "outputs": [
        {
          "output_type": "stream",
          "name": "stdout",
          "text": [
            "\n",
            "은행이름 : SC은행\n",
            "예금주 : Bae\n",
            "계좌번호 : 154-83-142388\n",
            "잔고 : 30000000    \n",
            "          \n"
          ]
        }
      ]
    },
    {
      "cell_type": "markdown",
      "source": [
        "##### Note:"
      ],
      "metadata": {
        "id": "mDDAmjF9h3xy"
      }
    },
    {
      "cell_type": "markdown",
      "source": [
        "```\n",
        "알게 된 내용\n",
        "(코드와 주석)\n",
        "\n",
        "```\n",
        "내용 설명"
      ],
      "metadata": {
        "id": "XnJMpVeah3xy"
      }
    },
    {
      "cell_type": "markdown",
      "source": [
        "### deposit_history(), withdraw_history : Q10 클래스 관리 | 매서드 관리 (매서드 추가)"
      ],
      "metadata": {
        "id": "yxeKWpp99y5f"
      }
    },
    {
      "cell_type": "markdown",
      "source": [
        "Account class 내의 매서드:\n",
        "\n",
        "1. get_account_num()\n",
        "2. deposit()\n",
        "3. withdraw()\n",
        "4. display_info()\n",
        "5. deposit_history()\n",
        "6. withdraw_history()"
      ],
      "metadata": {
        "id": "ayPsUeHQENWf"
      }
    },
    {
      "cell_type": "markdown",
      "source": [
        "> Q10. 입금과 출금 내역이 기록되도록 코드를 업데이트 하세요.\n",
        "(입금 내역과 출금 내역을 출력하는 deposit_history와 withdraw_history 메서드를 추가하세요.)"
      ],
      "metadata": {
        "id": "zEFrEUFr4WcI"
      }
    },
    {
      "cell_type": "markdown",
      "source": [
        "```\n",
        "새로 작성된 코드\n",
        "```"
      ],
      "metadata": {
        "id": "RyudoByFh6dG"
      }
    },
    {
      "cell_type": "markdown",
      "source": [
        "##### test:"
      ],
      "metadata": {
        "id": "5kjFfOz8h6dN"
      }
    },
    {
      "cell_type": "markdown",
      "source": [
        "###### 현재 코드:"
      ],
      "metadata": {
        "id": "bHq1ctVQh6dN"
      }
    },
    {
      "cell_type": "code",
      "source": [
        "import random as r\n",
        "import datetime               # 입출금 기록에는 시간이 필요하므로\n",
        "\n",
        "class Account:\n",
        "\n",
        "  accounts = []\n",
        "\n",
        "  def __init__(self, name, balance):\n",
        "    self.bank_name = \"SC은행\"\n",
        "    self.name = name\n",
        "    self.account_number = f\"{r.randint(100, 999)}-{r.randint(10, 99)}-{r.randint(100000, 999999)}\"\n",
        "    self.balance = balance\n",
        "    self.deposit_num = 0\n",
        "    self.deposit_list = []       # 계좌 내에서 사용할 리스트 (입금 목록)\n",
        "    self.withdraw_list = []      # 계좌 내에서 사용할 리스트 (출금 목록)\n",
        "    # self.deposit_dict = []       # 계좌 내에서 사용할 딕셔너리 (입금 목록)\n",
        "    # self.withdraw_dict = []      # 계좌 내에서 사용할 딕셔너리 (출금 목록)\n",
        "\n",
        "    Account.accounts.append(self)\n",
        "\n",
        "  def get_account_num(self):\n",
        "    return f\"계좌 개수 : {len(Account.accounts)}\"\n",
        "\n",
        "  def deposit(self, amount):        # 매서드 업데이트\n",
        "\n",
        "    if amount < 1:\n",
        "      print('입금은 최소 1원 이상만 가능합니다.')\n",
        "      return\n",
        "\n",
        "    self.balance += amount\n",
        "    time = datetime.datetime.now().strftime(\"%Y-%m-%d %H:%M:%S\")        # 거래 시간, 즉시 저장, 시간 포맷됨\n",
        "    print(f\"{amount}원 입금되었습니다.\")\n",
        "    self.deposit_num += 1\n",
        "    if self.deposit_num == 5:\n",
        "      interest = self.balance * 0.01\n",
        "      self.balance += interest\n",
        "      self.deposit_num = 0\n",
        "      print(f\"이자가 지급되었습니다.\")\n",
        "\n",
        "    # 입금 기록 저장\n",
        "    self.deposit_list.append({\"거래 시간\" : time, \"입금 금액\" : amount})   # 'date'와 'amount'를 키값으로 하는 딕셔너리 활용\n",
        "    # self.deposit_dict\n",
        "\n",
        "  def withdraw(self, amount):       # 매서드 업데이트\n",
        "    if amount > self.balance:\n",
        "      print('계좌의 잔고 이상으로 출금할 수 없습니다.')\n",
        "      return\n",
        "\n",
        "    self.balance -= amount\n",
        "    time = datetime.datetime.now().strftime(\"%Y-%m-%d %H:%M:%S\")        # 거래 시간, 즉시 저장, 시간 포맷됨\n",
        "    print(f\"{amount}원 출금되었습니다.\")\n",
        "\n",
        "    # 출금 기록 저장\n",
        "    self.withdraw_list.append({\"거래 시간\" : time, \"출금 금액\" : amount})   # 'date'와 'amount'를 키값으로 하는 딕셔너리 활용\n",
        "    # self.withdraw_dict\n",
        "\n",
        "  def display_info(self):\n",
        "    print(f\"\"\"\n",
        "은행이름 : {self.bank_name}\n",
        "예금주 : {self.name}\n",
        "계좌번호 : {self.account_number}\n",
        "잔고 : {self.balance}\n",
        "          \"\"\")\n",
        "\n",
        "  # 입금 내역 매서드\n",
        "  def deposit_history(self):\n",
        "    return self.deposit_list\n",
        "\n",
        "  # 출금 내역 매서드\n",
        "  def withdraw_history(self):\n",
        "    return self.withdraw_list\n",
        "\n",
        "# tests\n",
        "test1 = Account('Kim', 10000)\n",
        "test2 = Account('Jung', 20000)\n",
        "test3 = Account('Bae', 30000000)\n",
        "\n",
        "test1.deposit(20000000)\n",
        "test1.deposit(10000)\n",
        "\n",
        "filter_balance = 1000000\n",
        "for account in Account.accounts:\n",
        "  if account.balance >= filter_balance:\n",
        "    account.display_info()\n",
        "\n",
        "\n",
        "test2.deposit_history()   # 왜 다음을 출력하면 이 아인 안 보이는 걸까\n",
        "\n",
        "test1.deposit_history()"
      ],
      "metadata": {
        "colab": {
          "base_uri": "https://localhost:8080/"
        },
        "id": "242KjV6th6dN",
        "outputId": "b48d60f7-e342-4056-cff9-30e09ff7f783"
      },
      "execution_count": 92,
      "outputs": [
        {
          "output_type": "stream",
          "name": "stdout",
          "text": [
            "20000000원 입금되었습니다.\n",
            "10000원 입금되었습니다.\n",
            "\n",
            "은행이름 : SC은행\n",
            "예금주 : Kim\n",
            "계좌번호 : 617-95-895698\n",
            "잔고 : 20020000    \n",
            "          \n",
            "\n",
            "은행이름 : SC은행\n",
            "예금주 : Bae\n",
            "계좌번호 : 323-11-551868\n",
            "잔고 : 30000000    \n",
            "          \n"
          ]
        },
        {
          "output_type": "execute_result",
          "data": {
            "text/plain": [
              "[{'거래 시간': '2024-05-28 07:11:47', '입금 금액': 20000000},\n",
              " {'거래 시간': '2024-05-28 07:11:47', '입금 금액': 10000}]"
            ]
          },
          "metadata": {},
          "execution_count": 92
        }
      ]
    },
    {
      "cell_type": "markdown",
      "source": [
        "###### (임시)"
      ],
      "metadata": {
        "id": "6Yrgbrtch6dO"
      }
    },
    {
      "cell_type": "markdown",
      "source": [
        "(임시)"
      ],
      "metadata": {
        "id": "9vG6Zadkh6dO"
      }
    },
    {
      "cell_type": "code",
      "source": [
        "# 기타 테스트 코드"
      ],
      "metadata": {
        "id": "9PLkVLbVh6dO"
      },
      "execution_count": null,
      "outputs": []
    },
    {
      "cell_type": "markdown",
      "source": [
        "##### Note:"
      ],
      "metadata": {
        "id": "rta1cPzjh6dO"
      }
    },
    {
      "cell_type": "markdown",
      "source": [
        "```\n",
        "(임시)\n",
        "\n",
        "```\n",
        "(임시)"
      ],
      "metadata": {
        "id": "8t2QjtH-h6dO"
      }
    },
    {
      "cell_type": "markdown",
      "source": [
        "## 완성물"
      ],
      "metadata": {
        "id": "EvGpDeI63Y50"
      }
    },
    {
      "cell_type": "markdown",
      "source": [
        "Account class 현황\n",
        "\n",
        "객체:\n",
        "* 은행 이름 (SC은행)\n",
        "* 예금주\n",
        "* 계좌번호 (랜덤 생성, 3-2-6자리)\n",
        "* 잔액\n",
        "\n",
        "매서드:\n",
        "\n",
        "1. 계좌 개수 확인 : get_account_num()\n",
        "2. 입금 기능 : deposit()\n",
        "  * 입금 횟수 세어줘\n",
        "    * 다섯 번째에 이자 지급해줘\n",
        "  * 새로운 금액 저장해줘\n",
        "3. 출금 기능 : withdraw()\n",
        "  * 새로운 금액 저장해줘\n",
        "4. 계좌 정보 확인 : display_info()\n",
        "5. 입금 내역 확인 : deposit_history()\n",
        "6. 출금 내역 확인 : withdraw_history()\n",
        "\n"
      ],
      "metadata": {
        "id": "Ki7-vIHT3UGA"
      }
    },
    {
      "cell_type": "code",
      "source": [
        "import random as r            # 계좌번호 랜덤생성 위해\n",
        "import datetime               # 입출금 기록에는 시간이 필요하므로\n",
        "\n",
        "class Account:\n",
        "\n",
        "  accounts = []               # 인스턴스 생성 수 카운트하고, 인스턴스 정보 저장할 클래스 변수\n",
        "\n",
        "  def __init__(self, name, balance):\n",
        "    self.bank_name = \"SC은행\"\n",
        "    self.name = name\n",
        "    self.account_number = f\"{r.randint(100, 999)}-{r.randint(10, 99)}-{r.randint(100000, 999999)}\"\n",
        "    self.balance = balance\n",
        "    self.deposit_num = 0\n",
        "    self.deposit_list = []          # 계좌 내에서 사용할 리스트 (입금 목록)\n",
        "    self.withdraw_list = []         # 계좌 내에서 사용할 리스트 (출금 목록)\n",
        "\n",
        "    Account.accounts.append(self)   # 생성 즉시 클래스 변수에 자신 추가\n",
        "\n",
        "  def get_account_num(self):\n",
        "    return f\"계좌 개수 : {len(Account.accounts)}\"\n",
        "\n",
        "  # 입금할게\n",
        "  def deposit(self, amount):\n",
        "\n",
        "    if amount < 1:\n",
        "      print('입금은 최소 1원 이상만 가능합니다.')\n",
        "      return\n",
        "\n",
        "    self.balance += amount\n",
        "    time = datetime.datetime.now().strftime(\"%Y-%m-%d %H:%M:%S\")    # 시간 문자열 포맷팅\n",
        "    print(f\"{amount}원 입금되었습니다.\")\n",
        "    self.deposit_num += 1\n",
        "    if self.deposit_num == 5:\n",
        "      interest = self.balance * 0.01            # 가독성을 위해 이자율 따로 변수 선언\n",
        "      self.balance += interest\n",
        "      self.deposit_num = 0\n",
        "      print(f\"이자가 지급되었습니다.\")\n",
        "\n",
        "    # 입금 기록 저장\n",
        "    self.deposit_list.append({\"거래 시간\" : time, \"입금 금액\" : amount})\n",
        "\n",
        "  # 출금할게\n",
        "  def withdraw(self, amount):\n",
        "    if amount > self.balance:\n",
        "      print('계좌의 잔고 이상으로 출금할 수 없습니다.')\n",
        "      return\n",
        "\n",
        "    self.balance -= amount\n",
        "    time = datetime.datetime.now().strftime(\"%Y-%m-%d %H:%M:%S\")\n",
        "    print(f\"{amount}원 출금되었습니다.\")\n",
        "\n",
        "    # 출금 기록 저장\n",
        "    self.withdraw_list.append({\"거래 시간\" : time, \"출금 금액\" : amount})\n",
        "\n",
        "  # 계좌 정보 출력해줘\n",
        "  def display_info(self):\n",
        "    print(f\"\"\"\n",
        "은행이름 : {self.bank_name}\n",
        "예금주 : {self.name}\n",
        "계좌번호 : {self.account_number}\n",
        "잔고 : {self.balance}\n",
        "          \"\"\")\n",
        "\n",
        "  # 입금 내역 보여줘\n",
        "  def deposit_history(self):\n",
        "    return self.deposit_list\n",
        "\n",
        "  # 출금 내역 보여줘\n",
        "  def withdraw_history(self):\n",
        "    return self.withdraw_list"
      ],
      "metadata": {
        "id": "b7xmyzZJGYGs"
      },
      "execution_count": null,
      "outputs": []
    },
    {
      "cell_type": "code",
      "source": [
        "# tests\n",
        "\n",
        "test1 = Account('Kim', 10000)\n",
        "test2 = Account('Jung', 20000)\n",
        "test3 = Account('Bae', 30000000)\n",
        "\n",
        "test1.deposit(20000000)\n",
        "test1.deposit(10000)\n",
        "\n",
        "filter_balance = 1000000\n",
        "for account in Account.accounts:\n",
        "  if account.balance >= filter_balance:\n",
        "    account.display_info()\n",
        "\n",
        "test1.deposit_history()"
      ],
      "metadata": {
        "id": "NaAUnPQZC--c"
      },
      "execution_count": null,
      "outputs": []
    },
    {
      "cell_type": "markdown",
      "source": [
        "## 회고"
      ],
      "metadata": {
        "id": "IexGwmbIEKo5"
      }
    },
    {
      "cell_type": "markdown",
      "source": [
        "\n",
        "\n",
        "* self.deposit_num += 1 도 deposit_list의 길이로 업데이트 시켜볼 수 있겠다\n"
      ],
      "metadata": {
        "id": "xOQNiPypD-gA"
      }
    }
  ]
}