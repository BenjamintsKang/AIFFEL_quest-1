{
  "nbformat": 4,
  "nbformat_minor": 0,
  "metadata": {
    "colab": {
      "provenance": [],
      "collapsed_sections": [
        "XTc9Tt25Q2gq"
      ],
      "authorship_tag": "ABX9TyNKvaO3tNxxjoIdpP69xw7P",
      "include_colab_link": true
    },
    "kernelspec": {
      "name": "python3",
      "display_name": "Python 3"
    },
    "language_info": {
      "name": "python"
    }
  },
  "cells": [
    {
      "cell_type": "markdown",
      "metadata": {
        "id": "view-in-github",
        "colab_type": "text"
      },
      "source": [
        "<a href=\"https://colab.research.google.com/github/udoli3/AIFFEL_quest/blob/main/Python_quest/MainQuest/PythonMainQuest02_StudentManagement.ipynb\" target=\"_parent\"><img src=\"https://colab.research.google.com/assets/colab-badge.svg\" alt=\"Open In Colab\"/></a>"
      ]
    },
    {
      "cell_type": "markdown",
      "source": [
        "# 학생관리 (Aiffel)"
      ],
      "metadata": {
        "id": "k7CwEQsS0jLk"
      }
    },
    {
      "cell_type": "markdown",
      "source": [
        "## 완성물"
      ],
      "metadata": {
        "id": "EvGpDeI63Y50"
      }
    },
    {
      "cell_type": "markdown",
      "source": [
        "전체 구조"
      ],
      "metadata": {
        "id": "Ki7-vIHT3UGA"
      }
    },
    {
      "cell_type": "code",
      "source": [
        "# 전체 코드"
      ],
      "metadata": {
        "id": "b7xmyzZJGYGs"
      },
      "execution_count": null,
      "outputs": []
    },
    {
      "cell_type": "markdown",
      "source": [
        "## 과정 상세 및 단계별Q"
      ],
      "metadata": {
        "id": "KO_bANue3fSr"
      }
    },
    {
      "cell_type": "markdown",
      "source": [
        "> Q1. Aiffel 클래스 만들기\n",
        "\n",
        "> 생성자에는 이름, 입학연도, 기수, 과정명의 인자를 받습니다. 이를 통해 학번을 생성하고 학번 정보로 8기 코어\n",
        "그루 명단을 관리해봅시다.\n",
        "\n",
        "> 학번은 7자리로 이루어져 있습니다. : YYNNCXX\n",
        "* 학번 생성 규칙:\n",
        "  * YY: 연도 마지막 두자리 (2024 -> 24)\n",
        "  * NN: 기수 (온라인 8기는 31기)\n",
        "  * C: 과정 종류 (리서치 = 1, 코어 = 2)\n",
        "  * XX: 가나다순 번호\n",
        "\n",
        "\n",
        "\n"
      ],
      "metadata": {
        "id": "N5p53tDM04eV"
      }
    },
    {
      "cell_type": "markdown",
      "source": [
        "### Q1 Aiffel 클래스 만들기\n",
        "\n"
      ],
      "metadata": {
        "id": "fxzRnOmh0lbT"
      }
    },
    {
      "cell_type": "markdown",
      "source": [
        "##### test:"
      ],
      "metadata": {
        "id": "07kl-IQGNr8J"
      }
    },
    {
      "cell_type": "markdown",
      "source": [
        "###### 현재 코드:"
      ],
      "metadata": {
        "id": "qAbQQzhhTc7V"
      }
    },
    {
      "cell_type": "code",
      "source": [
        "class Aiffel:\n",
        "    student_list = []\n",
        "    id_given = 0\n",
        "\n",
        "    def __init__(self, name, admission_year, cohort, course):\n",
        "        self.name = name\n",
        "        self.admission_year = admission_year\n",
        "        self.cohort = cohort\n",
        "        self.course = course\n",
        "        self.student_id = None  # 모집 시에는 학번을 완전히 부여하지 않습니다. 모집 완료 후 업데이트\n",
        "\n",
        "    def sort_by_name(self):\n",
        "        # 학생 리스트를 이름 기준으로 가나다순 정렬\n",
        "        def get_hangul_code(student):\n",
        "            return hangul.compose(student.name)\n",
        "\n",
        "        # 학번 부여 여부 확인\n",
        "        id_not_given = [student for student in self.student_list if student.student_id is None]\n",
        "\n",
        "        # 학번 부여\n",
        "        for i, student in enumerate(id_not_given):\n",
        "            student.student_id = f\"{self.admission_year[-2]}{self.cohort:02d}{self.course}{i + 1 + Aiffel.id_given:02d}\"\n",
        "\n",
        "        Aiffel.id_given += len(id_not_given)\n",
        "\n",
        "    # ... (생략)\n",
        "\n",
        "# 학생 데이터 생성\n",
        "potter = Aiffel('포터', 2024, 8, 2)\n",
        "Aiffel.student_list.append(potter)\n",
        "\n",
        "# 학생 리스트를 이름 기준으로 정렬\n",
        "Aiffel.student_list.sort_by_name()\n",
        "\n",
        "# 결과 출력\n",
        "print(\"가나다순으로 정렬된 학생 목록:\")\n",
        "for student in Aiffel.student_list:\n",
        "    print(f\"이름: {student.name}, 입학연도: {student.admission_year}, 기수: {student.cohort}, 과정: {student.course}, 학번: {student.student_id}\")\n"
      ],
      "metadata": {
        "colab": {
          "base_uri": "https://localhost:8080/",
          "height": 211
        },
        "id": "yOxdZVRFWT5d",
        "outputId": "ae51bcb7-808a-4758-f58c-83d7a5a494f3"
      },
      "execution_count": null,
      "outputs": [
        {
          "output_type": "error",
          "ename": "AttributeError",
          "evalue": "'list' object has no attribute 'sort_by_name'",
          "traceback": [
            "\u001b[0;31m---------------------------------------------------------------------------\u001b[0m",
            "\u001b[0;31mAttributeError\u001b[0m                            Traceback (most recent call last)",
            "\u001b[0;32m<ipython-input-11-e20eb76de03a>\u001b[0m in \u001b[0;36m<cell line: 33>\u001b[0;34m()\u001b[0m\n\u001b[1;32m     31\u001b[0m \u001b[0;34m\u001b[0m\u001b[0m\n\u001b[1;32m     32\u001b[0m \u001b[0;31m# 학생 리스트를 이름 기준으로 정렬\u001b[0m\u001b[0;34m\u001b[0m\u001b[0;34m\u001b[0m\u001b[0m\n\u001b[0;32m---> 33\u001b[0;31m \u001b[0mAiffel\u001b[0m\u001b[0;34m.\u001b[0m\u001b[0mstudent_list\u001b[0m\u001b[0;34m.\u001b[0m\u001b[0msort_by_name\u001b[0m\u001b[0;34m(\u001b[0m\u001b[0;34m)\u001b[0m\u001b[0;34m\u001b[0m\u001b[0;34m\u001b[0m\u001b[0m\n\u001b[0m\u001b[1;32m     34\u001b[0m \u001b[0;34m\u001b[0m\u001b[0m\n\u001b[1;32m     35\u001b[0m \u001b[0;31m# 결과 출력\u001b[0m\u001b[0;34m\u001b[0m\u001b[0;34m\u001b[0m\u001b[0m\n",
            "\u001b[0;31mAttributeError\u001b[0m: 'list' object has no attribute 'sort_by_name'"
          ]
        }
      ]
    },
    {
      "cell_type": "code",
      "source": [
        "!pip install hangul\n",
        "# import hangul   # 한글 처리를 위한 모듈 (이름 순서 정렬 위해)"
      ],
      "metadata": {
        "colab": {
          "base_uri": "https://localhost:8080/"
        },
        "id": "iPuFY247WWRP",
        "outputId": "055040f8-098d-49c4-f5ba-d24c1f0475ec"
      },
      "execution_count": null,
      "outputs": [
        {
          "output_type": "stream",
          "name": "stdout",
          "text": [
            "Requirement already satisfied: hangul in /usr/local/lib/python3.10/dist-packages (0.0.4)\n"
          ]
        }
      ]
    },
    {
      "cell_type": "code",
      "source": [
        "class Aiffel:\n",
        "\n",
        "  student_list = []\n",
        "  id_given = 0\n",
        "\n",
        "  def __init__(self, name, admission_year, cohort, course):\n",
        "    self.name = name\n",
        "    self.admission_year = admission_year\n",
        "    self.cohort = cohort\n",
        "    self.course = course\n",
        "    self.student_id = None     # 모집 시에는 학번을 완전히 부여하지 않습니다. 모집 완료 후 업데이트\n",
        "\n",
        "  def sort_by_name(self):       # sort 후 바로 assign student id\n",
        "    # 학생 리스트를 이름 기준으로 가나다순 정렬\n",
        "    def get_hangul_code(student):\n",
        "      return hangul.compose(student.name)\n",
        "\n",
        "      # self.student_id 가 None 인 학생만 해당\n",
        "      id_not_given = [id for id in self.student_list if self.student_id == None]\n",
        "      self.student_list.sort(key=get_hangul_code)\n",
        "      # 정렬된 학생 리스트에 두 자리 번호 부여\n",
        "      for i, student in enumerate(id_not_given):\n",
        "        student.student_id = f\"{self.admission_year[-2]}{self.cohort:02d}{self.course}{i + 1 + Aiffel.id_given:02d}\"\n",
        "        Aiffel.id_given = i + 1\n",
        "\n",
        "\n",
        "\n",
        "potter = Aiffel('포터', 2024, 8, 2)\n",
        "potter.sort_by_name()\n",
        "print()\n",
        "\n",
        "herione = Aiffel('헤르미온느', 2024, 8, 2)\n"
      ],
      "metadata": {
        "id": "HGgHT_DeTaEg"
      },
      "execution_count": null,
      "outputs": []
    },
    {
      "cell_type": "markdown",
      "source": [
        "### Q3 그루 명단 관리하기"
      ],
      "metadata": {
        "id": "YWQfOJi9GcWS"
      }
    },
    {
      "cell_type": "markdown",
      "source": [
        "> Q3. 그루 명단 관리하기\n",
        "* 다음과 같은 기능을 가진 프로그램을 만들어 봅시다.\n",
        "  * 전체 명단과 정보를 보는 기능\n",
        "  * 퀘스트 점수를 기준으로 내림차순으로 정렬해서 보는 기능\n",
        "  * 특정 인물 정보를 삭제하는 기능\n"
      ],
      "metadata": {
        "id": "ao4TALLoGcWT"
      }
    },
    {
      "cell_type": "markdown",
      "source": [
        "```\n",
        "새로운 코드\n",
        "```"
      ],
      "metadata": {
        "id": "XZMEmWv4GcWU"
      }
    },
    {
      "cell_type": "markdown",
      "source": [
        "##### test:"
      ],
      "metadata": {
        "id": "eu0Mu4EaGcWU"
      }
    },
    {
      "cell_type": "markdown",
      "source": [
        "###### 현재 코드:"
      ],
      "metadata": {
        "id": "g7_VIYBYGcWU"
      }
    },
    {
      "cell_type": "code",
      "execution_count": null,
      "metadata": {
        "id": "QzpM98UdGcWc"
      },
      "outputs": [],
      "source": [
        "# 현재 코드\n",
        "\n",
        "# tests"
      ]
    },
    {
      "cell_type": "markdown",
      "source": [
        "##### Note:"
      ],
      "metadata": {
        "id": "h7APRLr3GcWd"
      }
    },
    {
      "cell_type": "markdown",
      "source": [
        "```\n",
        "알게 된 내용\n",
        "(코드 및 주석)\n",
        "```\n",
        "설명"
      ],
      "metadata": {
        "id": "78AZccXmGcWd"
      }
    },
    {
      "cell_type": "markdown",
      "source": [
        "###### (현재 코드와 동등한 관계. 만약 코드 실행 외에 테스트한 것이 있다면 작성)"
      ],
      "metadata": {
        "id": "XTc9Tt25Q2gq"
      }
    },
    {
      "cell_type": "markdown",
      "source": [
        "case로 나누는 등등 테스트한 방법 상세 기록\n"
      ],
      "metadata": {
        "id": "4AmWCPecOSzd"
      }
    },
    {
      "cell_type": "code",
      "source": [
        "# 기타 테스트 코드"
      ],
      "metadata": {
        "id": "IJxwYnkFN1Iz"
      },
      "execution_count": null,
      "outputs": []
    },
    {
      "cell_type": "markdown",
      "source": [
        "##### Note:"
      ],
      "metadata": {
        "id": "OlRRENpRVnzd"
      }
    },
    {
      "cell_type": "markdown",
      "source": [
        "```\n",
        "알게 된 내용\n",
        "(코드와 주석)\n",
        "\n",
        "```\n",
        "* 가나다를 직접 처리하는 방법\n",
        "* hangul 모듈을 사용하는 방법"
      ],
      "metadata": {
        "id": "6jCa96pnHI9b"
      }
    },
    {
      "cell_type": "markdown",
      "source": [
        "### Q2 점수 관리 메서드"
      ],
      "metadata": {
        "id": "bE1qyLr-8Uvz"
      }
    },
    {
      "cell_type": "markdown",
      "source": [
        "> Q2. 점수 관리 메서드\n",
        "* 다음과 같은 기능이 추가되어야 합니다.\n",
        "  * 퀘스트 점수 부여\n",
        "  * 퀘스트 점수 차감 (페널티 부여)\n",
        "  * 현재 총점 출력\n"
      ],
      "metadata": {
        "id": "pRLx2qqKGOd4"
      }
    },
    {
      "cell_type": "markdown",
      "source": [
        "#### 세부1 구체적 코드명 : 세부1 구조적 설명"
      ],
      "metadata": {
        "id": "7SRen9av2Dkl"
      }
    },
    {
      "cell_type": "markdown",
      "source": [
        "단계에서 생성된 구조"
      ],
      "metadata": {
        "id": "WXMswoNZfxwr"
      }
    },
    {
      "cell_type": "markdown",
      "source": [
        "*"
      ],
      "metadata": {
        "id": "Vnx6IfFN1RkU"
      }
    },
    {
      "cell_type": "markdown",
      "source": [
        "```\n",
        "새로운 코드\n",
        "```"
      ],
      "metadata": {
        "id": "cGgXo9fYSgWO"
      }
    },
    {
      "cell_type": "markdown",
      "source": [
        "##### test:"
      ],
      "metadata": {
        "id": "vqR9nTsCMK80"
      }
    },
    {
      "cell_type": "markdown",
      "source": [
        "###### 현재 코드:"
      ],
      "metadata": {
        "id": "YDnHd4rzUBR7"
      }
    },
    {
      "cell_type": "code",
      "execution_count": null,
      "metadata": {
        "id": "xbBhs0NZ0h8S"
      },
      "outputs": [],
      "source": [
        "# 현재 코드\n",
        "\n",
        "# tests"
      ]
    },
    {
      "cell_type": "markdown",
      "source": [
        "##### Note:"
      ],
      "metadata": {
        "id": "6xfyIyirWGex"
      }
    },
    {
      "cell_type": "markdown",
      "source": [
        "```\n",
        "알게 된 내용\n",
        "(코드 및 주석)\n",
        "```\n",
        "설명"
      ],
      "metadata": {
        "id": "hRMuQsjbI8bc"
      }
    }
  ]
}